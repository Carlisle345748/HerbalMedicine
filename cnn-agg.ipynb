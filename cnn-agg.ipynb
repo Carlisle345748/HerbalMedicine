{
 "cells": [
  {
   "cell_type": "code",
   "execution_count": 1,
   "id": "f4c7abce-5681-443a-82d7-8ac14d4d530a",
   "metadata": {},
   "outputs": [],
   "source": [
    "import torch\n",
    "import numpy as np\n",
    "import torch.nn as nn\n",
    "import torch.optim as optim\n",
    "from torch.utils.data import Dataset, DataLoader\n",
    "import torchmetrics\n",
    "from scipy.io import loadmat\n",
    "from sklearn.model_selection import train_test_split\n",
    "\n",
    "device = torch.device('cuda' if torch.cuda.is_available() else 'cpu')"
   ]
  },
  {
   "cell_type": "code",
   "execution_count": 2,
   "id": "f9eb269e-9c6b-49c8-8e57-98ed028e846a",
   "metadata": {},
   "outputs": [],
   "source": [
    "# Input\n",
    "source_dataset_mat=loadmat('Source_BZ_DG_GG.mat')\n",
    "source_dataset_raw=np.vstack((source_dataset_mat['BZ'],source_dataset_mat['DG'],source_dataset_mat['GG']))\n",
    "target_dataset_mat=loadmat('Target_BZ_DG_GG.mat')\n",
    "target_dataset_raw=np.vstack((target_dataset_mat['BZ'],target_dataset_mat['DG'],target_dataset_mat['GG']))"
   ]
  },
  {
   "cell_type": "code",
   "execution_count": 3,
   "id": "6b6d5b7b-78f2-4b97-b790-d22e848a07cc",
   "metadata": {},
   "outputs": [],
   "source": [
    "# Labels\n",
    "y_source=np.hstack((0*np.ones(160),1*np.ones(160),2*np.ones(160))).astype(np.int64)\n",
    "y_target=np.hstack((0*np.ones(50),1*np.ones(50),2*np.ones(50))).astype(np.int64)"
   ]
  },
  {
   "cell_type": "code",
   "execution_count": 4,
   "id": "b4724247-95d0-440c-a203-59f1bf661bac",
   "metadata": {},
   "outputs": [
    {
     "name": "stdout",
     "output_type": "stream",
     "text": [
      "(480, 128)\n",
      "(150, 128)\n",
      "(480,)\n",
      "(150,)\n"
     ]
    }
   ],
   "source": [
    "print(source_dataset_raw.shape)\n",
    "print(target_dataset_raw.shape)\n",
    "print(y_source.shape)\n",
    "print(y_target.shape)"
   ]
  },
  {
   "cell_type": "markdown",
   "id": "332253c4-dc5f-4dd1-a0ae-8ed11398e7c4",
   "metadata": {},
   "source": [
    "### DRCA"
   ]
  },
  {
   "cell_type": "code",
   "execution_count": 5,
   "id": "840ee918-800a-40be-99fc-0735186c99b1",
   "metadata": {},
   "outputs": [],
   "source": [
    "class DRCA():\n",
    "    '''\n",
    "    The DRCA Class\n",
    "    '''\n",
    "    def __init__(self, n_components = 2,alpha = None, mode = 'raw'):\n",
    "        '''\n",
    "        The function to initialize the DRCA class\n",
    "        :param n_components: The intended dimensionality of projection hyperplane smaller than the initial dimensionality\n",
    "        :param alpha: weighting factor for target domain data within class scatter\n",
    "        :param mode: the mode of DRCA:\n",
    "            'raw': consider source domain data (S) and target domain data (T) as two groups\n",
    "            'number': consider type-specific source domain data and target domain data based on the average number of cases in S and T\n",
    "            'mean': equal weights for each class\n",
    "        '''\n",
    "        self.mode = mode\n",
    "        self.Sw_s = None\n",
    "        self.Sw_t = None\n",
    "        self.mu_s = None\n",
    "        self.mu_t = None\n",
    "        self.alpha = alpha\n",
    "        self.D_tilde = n_components\n",
    "    pass\n",
    "\n",
    "    def fit(self, Xs, Xt, Ys=None, Yt = None):\n",
    "        '''\n",
    "        This function fit the DRCA model with the data and labels given by users\n",
    "        :param Xs: the feature matrix of shape (Ns, D) in source domain, np.array\n",
    "        :param Xt: the feature matrix of shape (Nt, D) in target domain, np.array\n",
    "        :param Ys: the label of the data of shape (Ns,) in source domain, np.array, int\n",
    "        :param Yt: the label of the data of shape (Nt,) in target domain, np.array, int\n",
    "        '''\n",
    "        ### --- Summarize statistics --- ###\n",
    "        if self.mode != 'raw':\n",
    "            Ys = Ys.reshape(-1,) #we need to use Y and make sure the Y is the intended form\n",
    "            Yt = Yt.reshape(-1,)\n",
    "        Ns = Xs.shape[0]\n",
    "        Nt = Xt.shape[0]\n",
    "        D = Xs.shape[1]\n",
    "        \n",
    "        ### --- Within-domain scatter --- ###\n",
    "        self.mu_s = np.mean(Xs,axis=0,keepdims=True) #1*D\n",
    "        self.mu_t = np.mean(Xt,axis=0,keepdims=True)\n",
    "        self.Sw_s = (Xs - self.mu_s).T @ (Xs - self.mu_s) #D*D\n",
    "        self.Sw_t = (Xt - self.mu_t).T @ (Xt - self.mu_t) #D*D\n",
    "        if self.alpha == None:\n",
    "            self.alpha = Ns/Nt\n",
    "        self.nominator = self.Sw_s + self.Sw_t * self.alpha\n",
    "        \n",
    "        ### --- Eliminate sensor drifts --- ###\n",
    "        if self.mode == 'raw': #S and T as two entities\n",
    "            self.denominator = (self.mu_s - self.mu_t).T @ (self.mu_s-self.mu_t) #D*D\n",
    "        elif self.mode == 'number': #Focus on the same classes appeared in target domain\n",
    "            Kt = np.unique(Yt).shape[0] #Assume that the target domain classes are fewer \n",
    "            self.denominator = np.empty((D,D))\n",
    "            for i in range(Kt):\n",
    "                Ns = np.mean(Ys==Kt[i])\n",
    "                Nt = np.mean(Yt==Kt[i])\n",
    "                N = 0.5*(self.Ns+self.Nt)#self. ???????????????????\n",
    "                mu_s_matrix = np.mean(Xs[Ys==Kt[i],:],axis=0,keepdims=True)\n",
    "                mu_t_matrix = np.mean(Xt[Yt==Kt[i],:],axis=0,keepdims=True)\n",
    "                Sb_matrix = (self.mu_s_matrix-self.mu_t_matrix).T @ (self.mu_s_matrix-self.mu_t_matrix)\n",
    "                self.denomiator += N * Sb_matrix\n",
    "        elif self.mode == 'mean': #Equal weights for every class\n",
    "            Kt = np.unique(Yt).shape[0] #Assume that the target domain classes are fewer \n",
    "            self.denominator = np.empty((D,D))\n",
    "            for i in range(Kt):\n",
    "                mu_s_matrix = np.mean(Xs[Ys==Kt[i],:],axis=0,keepdims=True)#1*D\n",
    "                mu_t_matrix = np.mean(Xt[Yt==Kt[i],:],axis=0,keepdims=True)#1*D\n",
    "                Sb_matrix = (self.mu_s_matrix-self.mu_t_matrix).T @ (self.mu_s_matrix-self.mu_t_matrix)\n",
    "                self.denomiator += Sb_matrix#D*D\n",
    "        \n",
    "        \n",
    "        eigenValues, eigenVectors = np.linalg.eig(np.linalg.pinv(self.denominator) @ self.nominator) #D*D\n",
    "\n",
    "        idx = np.abs(eigenValues).argsort()[::-1]  \n",
    "        self.eigenValues = eigenValues[idx]\n",
    "        self.eigenVectors = eigenVectors[:,idx]\n",
    "        self.W = self.eigenVectors[:,0:self.D_tilde]#shape=(D,D_tilde)\n",
    "    pass    \n",
    "        \n",
    "    def transform(self, X):\n",
    "        '''\n",
    "        This function use the fitted SRLDA model\n",
    "        :param X: the data in np.array of shape (N,D) that needs to be projected to the lower dimension\n",
    "        :return: X_tilde: the projected data in the lower dimensional space in np.array of shape (N, D_tilde)\n",
    "        '''\n",
    "        return np.matmul(X,self.W)   #goal:  (N,D_tilde)      (D_tilde*D)@(D*N).T     (N*D)(D*D_tilde)\n",
    "    pass\n",
    "    \n",
    "    def fit_transform(self, Xs, Xt, Ys=None, Yt = None):\n",
    "        '''\n",
    "        :param Xs: the feature matrix of shape (Ns, D) in source domain, np.array\n",
    "        :param Xt: the feature matrix of shape (Nt, D) in target domain, np.array\n",
    "        :param Ys: the label of the data of shape (Ns,) in source domain, np.array, int\n",
    "        :param Yt: the label of the data of shape (Nt,) in target domain, np.array, int '''\n",
    "                                                  \n",
    "        self.fit(Xs, Xt, Ys, Yt)\n",
    "        return np.real(self.transform(Xs)),np.real(self.transform(Xt)) #N * D_tilde\n",
    "    pass"
   ]
  },
  {
   "cell_type": "markdown",
   "id": "c170f7d0-03de-4a79-9d0d-163f2db01125",
   "metadata": {},
   "source": [
    "### Spilt Dataset"
   ]
  },
  {
   "cell_type": "code",
   "execution_count": 6,
   "id": "82874173-831e-43e2-8003-49d4f390ddba",
   "metadata": {},
   "outputs": [],
   "source": [
    "class HerbalData(Dataset):\n",
    "    def __init__(self, x_train, y_train):\n",
    "        assert len(x_train) == len(y_train)\n",
    "        self.x = x_train\n",
    "        self.y = y_train\n",
    "    \n",
    "    def __len__(self):\n",
    "        return self.x.shape[0]\n",
    "    \n",
    "    def __getitem__(self, idx):\n",
    "        return self.x[idx], self.y[idx]"
   ]
  },
  {
   "cell_type": "code",
   "execution_count": 7,
   "id": "76e6b908-e41d-4e0d-9b02-b6653f6cd363",
   "metadata": {},
   "outputs": [
    {
     "name": "stdout",
     "output_type": "stream",
     "text": [
      "Train Set: (336, 128)\n",
      "Valid Set: (72, 128)\n",
      "Test Set: (72, 128)\n",
      "Target Set: (150, 128)\n"
     ]
    }
   ],
   "source": [
    "# Without DRCA\n",
    "x_train, x_valid, y_train, y_valid = train_test_split(source_dataset_raw, y_source, train_size=0.7, random_state=1)\n",
    "x_valid, x_test, y_valid, y_test = train_test_split(x_valid, y_valid, train_size=0.5, random_state=1)\n",
    "train_set = HerbalData(torch.from_numpy(x_train).to(device), torch.from_numpy(y_train).to(device))\n",
    "valid_set = HerbalData(torch.from_numpy(x_valid).to(device), torch.from_numpy(y_valid).to(device))\n",
    "test_set = HerbalData(torch.from_numpy(x_test).to(device), torch.from_numpy(y_test).to(device))\n",
    "target_set = HerbalData(torch.from_numpy(target_dataset_raw).to(device), torch.from_numpy(y_target).to(device))\n",
    "\n",
    "train_dataloader = DataLoader(train_set, batch_size=128, shuffle=True)\n",
    "valid_dataloader = DataLoader(valid_set, batch_size=128, shuffle=True)\n",
    "test_dataloader = DataLoader(test_set, batch_size=128)\n",
    "target_dataloader = DataLoader(target_set, batch_size=128)\n",
    "\n",
    "print(\"Train Set:\", x_train.shape)\n",
    "print(\"Valid Set:\", x_valid.shape)\n",
    "print(\"Test Set:\", x_test.shape)\n",
    "print(\"Target Set:\", target_dataset_raw.shape)"
   ]
  },
  {
   "cell_type": "code",
   "execution_count": 8,
   "id": "004f6569-f589-45b4-862c-ca14dfdddc3e",
   "metadata": {},
   "outputs": [
    {
     "name": "stdout",
     "output_type": "stream",
     "text": [
      "Train Set: (336, 50)\n",
      "Valid Set: (72, 50)\n",
      "Test Set: (72, 50)\n",
      "Target Set: (150, 50)\n"
     ]
    }
   ],
   "source": [
    "# With DRCA\n",
    "drca=DRCA(n_components=50, alpha=10)#n_components and alpha value are hyperparameters\n",
    "source_dataset_drca, target_dataset_drca = drca.fit_transform(source_dataset_raw,target_dataset_raw)\n",
    "\n",
    "x_train_drca, x_valid_drca, y_train_drca, y_valid_drca = train_test_split(source_dataset_drca, y_source, train_size=0.7, random_state=1)\n",
    "x_valid_drca, x_test_drca, y_valid_drca, y_test_drca = train_test_split(x_valid_drca, y_valid_drca, train_size=0.5, random_state=1)\n",
    "train_set_drca = HerbalData(torch.from_numpy(x_train_drca).to(device), torch.from_numpy(y_train_drca).to(device))\n",
    "valid_set_drca = HerbalData(torch.from_numpy(x_valid_drca).to(device), torch.from_numpy(y_valid_drca).to(device))\n",
    "test_set_drca = HerbalData(torch.from_numpy(x_test_drca).to(device), torch.from_numpy(y_test_drca).to(device))\n",
    "target_set_drca = HerbalData(torch.from_numpy(target_dataset_drca).to(device), torch.from_numpy(y_target).to(device))\n",
    "\n",
    "train_dataloader_drca = DataLoader(train_set_drca, batch_size=128, shuffle=True)\n",
    "valid_dataloader_drca = DataLoader(valid_set_drca, batch_size=128, shuffle=True)\n",
    "test_dataloader_drca = DataLoader(test_set_drca, batch_size=128)\n",
    "target_dataloader_drca = DataLoader(target_set_drca, batch_size=128)\n",
    "print(\"Train Set:\", x_train_drca.shape)\n",
    "print(\"Valid Set:\", x_valid_drca.shape)\n",
    "print(\"Test Set:\", x_test_drca.shape)\n",
    "print(\"Target Set:\", target_dataset_drca.shape)"
   ]
  },
  {
   "cell_type": "markdown",
   "id": "4124c42b-82ca-41ac-8f98-e30280c1fad5",
   "metadata": {},
   "source": [
    "### CNN-1D"
   ]
  },
  {
   "cell_type": "code",
   "execution_count": 9,
   "id": "5be8fd8f-d420-47da-b436-561fd1e54c62",
   "metadata": {},
   "outputs": [],
   "source": [
    "class CNN1d(nn.Module):\n",
    "    def __init__(self, input_dim, n_filters, filter_sizes, strides, output_dim, dropout):\n",
    "        \n",
    "        super().__init__()\n",
    "        \n",
    "        convs = []\n",
    "        in_channel = 1\n",
    "        conv_dim = input_dim\n",
    "        for i in range(len(n_filters)):\n",
    "            convs.append(nn.Conv1d(in_channels=in_channel, \n",
    "                                   out_channels=n_filters[i], \n",
    "                                   kernel_size=filter_sizes[i],\n",
    "                                   stride=strides[i])\n",
    "                         )\n",
    "            convs.append(nn.MaxPool1d(kernel_size=4, stride=1))\n",
    "            in_channel = n_filters[i]\n",
    "            conv_dim = int((conv_dim - filter_sizes[i])/strides[i] + 1) - 3\n",
    "            \n",
    "        self.convs = nn.Sequential(*convs)\n",
    "        \n",
    "        self.flatten = nn.Flatten()\n",
    "        \n",
    "        self.fc = nn.Sequential(\n",
    "            nn.Linear(conv_dim*n_filters[-1], 32),\n",
    "            nn.Linear(32, output_dim),\n",
    "        )\n",
    "        \n",
    "        self.dropout = nn.Dropout(dropout)\n",
    "        \n",
    "    def forward(self, data):\n",
    "        \n",
    "        # data = [batch size, input_dim]\n",
    "        \n",
    "        data = data.unsqueeze(1)\n",
    "        \n",
    "        conved = self.convs(data)\n",
    "        \n",
    "        #conved_n = [batch size, n_filters]\n",
    "        \n",
    "        conved = self.dropout(conved)\n",
    "        \n",
    "        output = self.fc(self.flatten(conved))\n",
    "            \n",
    "        return output"
   ]
  },
  {
   "cell_type": "code",
   "execution_count": 10,
   "id": "26814110-7a65-4d1c-98f6-c330e6fce9b7",
   "metadata": {},
   "outputs": [],
   "source": [
    "INPUT_DIM = x_train.shape[1]\n",
    "INPUT_DIM_DRCA = x_train_drca.shape[1]\n",
    "N_FILTERS = [32, 64]\n",
    "FILTER_SIZES = [2, 2]\n",
    "STRIDES = [1, 1]\n",
    "OUTPUT_DIM = 3\n",
    "DROPOUT = 0.5\n",
    "\n",
    "model = CNN1d(INPUT_DIM, N_FILTERS, FILTER_SIZES, STRIDES, OUTPUT_DIM, DROPOUT)\n",
    "model.double()\n",
    "model = model.to(device)\n",
    "optimizer = optim.Adam(model.parameters())\n",
    "\n",
    "model_drca = CNN1d(INPUT_DIM_DRCA, N_FILTERS, FILTER_SIZES, STRIDES, OUTPUT_DIM, DROPOUT)\n",
    "model_drca.double()\n",
    "model_drca = model_drca.to(device)\n",
    "optimizer_drca = optim.Adam(model_drca.parameters())\n",
    "\n",
    "criterion = nn.CrossEntropyLoss()\n",
    "criterion = criterion.to(device)"
   ]
  },
  {
   "cell_type": "code",
   "execution_count": 11,
   "id": "4e6043d3-7b96-44b0-9127-b234f7ca7bc2",
   "metadata": {},
   "outputs": [],
   "source": [
    "def train(model, train_dataloader, optimizer, criterion):\n",
    "    epoch_loss = 0\n",
    "    epoch_acc = 0\n",
    "    epoch_prec = 0\n",
    "    epoch_recall = 0\n",
    "    epoch_f1 = 0\n",
    "    batches = len(train_dataloader)\n",
    "    \n",
    "    model.train()\n",
    "    \n",
    "    for _, batch in enumerate(train_dataloader):\n",
    "        x, y = batch\n",
    "        \n",
    "        optimizer.zero_grad()\n",
    "        \n",
    "        predictions = model(x)\n",
    "        \n",
    "        loss = criterion(predictions, y)\n",
    "        \n",
    "        predictions = torch.argmax(torch.softmax(predictions, 0), dim=1)\n",
    "        acc = torchmetrics.functional.accuracy(predictions, y)\n",
    "        prec, recall = torchmetrics.functional.precisixon_recall(predictions, y, num_classes=3, average='macro')\n",
    "        f1 = torchmetrics.functional.f1(predictions, y, num_classes=3, average='macro')\n",
    "        \n",
    "        loss.backward()\n",
    "        \n",
    "        optimizer.step()\n",
    "        \n",
    "        epoch_loss += loss.item()\n",
    "        epoch_acc += acc.item()\n",
    "        epoch_prec += prec.item()\n",
    "        epoch_recall += recall.item()\n",
    "        epoch_f1 += f1.item()\n",
    "\n",
    "    return epoch_loss / batches, epoch_acc / batches, epoch_prec / batches, epoch_recall / batches, epoch_f1 / batches"
   ]
  },
  {
   "cell_type": "code",
   "execution_count": 12,
   "id": "45a47ab1-5f00-478d-a20e-8b2004bcf503",
   "metadata": {},
   "outputs": [],
   "source": [
    "def evaluate(model, test_dataloader, criterion):\n",
    "    epoch_loss = 0\n",
    "    epoch_acc = 0\n",
    "    epoch_prec = 0\n",
    "    epoch_recall = 0\n",
    "    epoch_f1 = 0\n",
    "    batches = len(test_dataloader)\n",
    "    \n",
    "    model.eval()\n",
    "    \n",
    "    with torch.no_grad():\n",
    "    \n",
    "        for _, batch in enumerate(test_dataloader):\n",
    "            x, y = batch\n",
    "\n",
    "            predictions = model(x)\n",
    "            \n",
    "            loss = criterion(predictions, y)\n",
    "            \n",
    "            predictions = torch.argmax(torch.softmax(predictions, 0), dim=1)\n",
    "            acc = torchmetrics.functional.accuracy(predictions, y)\n",
    "            prec, recall = torchmetrics.functional.precision_recall(predictions, y, num_classes=3, average='macro')\n",
    "            f1 = torchmetrics.functional.f1(predictions, y, num_classes=3, average='macro')\n",
    "\n",
    "            epoch_loss += loss.item()\n",
    "            epoch_acc += acc.item()\n",
    "            epoch_prec += prec.item()\n",
    "            epoch_recall += recall.item()\n",
    "            epoch_f1 += f1.item()\n",
    "        \n",
    "    return epoch_loss / batches, epoch_acc / batches, epoch_prec / batches, epoch_recall / batches, epoch_f1 / batches"
   ]
  },
  {
   "cell_type": "markdown",
   "id": "48dfe7e4-cac6-4dc2-bf9d-1b130c42149e",
   "metadata": {},
   "source": [
    "### Training Model Without DRCA"
   ]
  },
  {
   "cell_type": "code",
   "execution_count": 13,
   "id": "9c61416d-8348-4afa-bff6-169d20ff6d8f",
   "metadata": {},
   "outputs": [],
   "source": [
    "import time\n",
    "\n",
    "def epoch_time(start_time, end_time):\n",
    "    elapsed_time = end_time - start_time\n",
    "    elapsed_mins = int(elapsed_time / 60)\n",
    "    elapsed_secs = int(elapsed_time - (elapsed_mins * 60))\n",
    "    return elapsed_mins, elapsed_secs"
   ]
  },
  {
   "cell_type": "code",
   "execution_count": 14,
   "id": "62490699-b9bf-4e87-96bc-0f89a6390fa1",
   "metadata": {
    "scrolled": true,
    "tags": []
   },
   "outputs": [
    {
     "name": "stderr",
     "output_type": "stream",
     "text": [
      "/opt/conda/lib/python3.7/site-packages/torch/nn/functional.py:652: UserWarning: Named tensors and all their associated APIs are an experimental feature and subject to change. Please do not use them for anything important until they are released as stable. (Triggered internally at  /opt/conda/conda-bld/pytorch_1623448265233/work/c10/core/TensorImpl.h:1156.)\n",
      "  return torch.max_pool1d(input, kernel_size, stride, padding, dilation, ceil_mode)\n"
     ]
    },
    {
     "name": "stdout",
     "output_type": "stream",
     "text": [
      "Epoch: 01 | Epoch Time: 0m 0s\n",
      "\tTrain Loss: 13.830 | Train Acc: 41.04%\n",
      "\t Val. Loss: 14.980 |  Val. Acc: 43.06%\n",
      "Epoch: 02 | Epoch Time: 0m 0s\n",
      "\tTrain Loss: 13.101 | Train Acc: 49.58%\n",
      "\t Val. Loss: 10.554 |  Val. Acc: 44.44%\n",
      "Epoch: 03 | Epoch Time: 0m 0s\n",
      "\tTrain Loss: 6.536 | Train Acc: 57.08%\n",
      "\t Val. Loss: 2.684 |  Val. Acc: 55.56%\n",
      "Epoch: 04 | Epoch Time: 0m 0s\n",
      "\tTrain Loss: 3.906 | Train Acc: 37.71%\n",
      "\t Val. Loss: 3.223 |  Val. Acc: 31.94%\n",
      "Epoch: 05 | Epoch Time: 0m 0s\n",
      "\tTrain Loss: 1.765 | Train Acc: 44.58%\n",
      "\t Val. Loss: 1.728 |  Val. Acc: 51.39%\n",
      "Epoch: 06 | Epoch Time: 0m 0s\n",
      "\tTrain Loss: 1.753 | Train Acc: 58.49%\n",
      "\t Val. Loss: 1.815 |  Val. Acc: 43.06%\n",
      "Epoch: 07 | Epoch Time: 0m 0s\n",
      "\tTrain Loss: 1.430 | Train Acc: 56.67%\n",
      "\t Val. Loss: 0.604 |  Val. Acc: 50.00%\n",
      "Epoch: 08 | Epoch Time: 0m 0s\n",
      "\tTrain Loss: 0.458 | Train Acc: 59.58%\n",
      "\t Val. Loss: 0.854 |  Val. Acc: 58.33%\n",
      "Epoch: 09 | Epoch Time: 0m 0s\n",
      "\tTrain Loss: 0.885 | Train Acc: 57.08%\n",
      "\t Val. Loss: 0.888 |  Val. Acc: 58.33%\n",
      "Epoch: 10 | Epoch Time: 0m 0s\n",
      "\tTrain Loss: 0.518 | Train Acc: 58.85%\n",
      "\t Val. Loss: 0.344 |  Val. Acc: 50.00%\n",
      "Epoch: 11 | Epoch Time: 0m 0s\n",
      "\tTrain Loss: 0.312 | Train Acc: 52.29%\n",
      "\t Val. Loss: 0.512 |  Val. Acc: 48.61%\n",
      "Epoch: 12 | Epoch Time: 0m 0s\n",
      "\tTrain Loss: 0.453 | Train Acc: 52.55%\n",
      "\t Val. Loss: 0.475 |  Val. Acc: 50.00%\n",
      "Epoch: 13 | Epoch Time: 0m 0s\n",
      "\tTrain Loss: 0.346 | Train Acc: 53.54%\n",
      "\t Val. Loss: 0.317 |  Val. Acc: 50.00%\n",
      "Epoch: 14 | Epoch Time: 0m 0s\n",
      "\tTrain Loss: 0.257 | Train Acc: 51.98%\n",
      "\t Val. Loss: 0.386 |  Val. Acc: 50.00%\n",
      "Epoch: 15 | Epoch Time: 0m 0s\n",
      "\tTrain Loss: 0.333 | Train Acc: 59.43%\n",
      "\t Val. Loss: 0.411 |  Val. Acc: 54.17%\n",
      "Epoch: 16 | Epoch Time: 0m 0s\n",
      "\tTrain Loss: 0.317 | Train Acc: 54.43%\n",
      "\t Val. Loss: 0.287 |  Val. Acc: 54.17%\n",
      "Epoch: 17 | Epoch Time: 0m 0s\n",
      "\tTrain Loss: 0.240 | Train Acc: 62.34%\n",
      "\t Val. Loss: 0.275 |  Val. Acc: 54.17%\n",
      "Epoch: 18 | Epoch Time: 0m 0s\n",
      "\tTrain Loss: 0.287 | Train Acc: 55.26%\n",
      "\t Val. Loss: 0.283 |  Val. Acc: 54.17%\n",
      "Epoch: 19 | Epoch Time: 0m 0s\n",
      "\tTrain Loss: 0.227 | Train Acc: 59.58%\n",
      "\t Val. Loss: 0.257 |  Val. Acc: 54.17%\n",
      "Epoch: 20 | Epoch Time: 0m 0s\n",
      "\tTrain Loss: 0.232 | Train Acc: 54.01%\n",
      "\t Val. Loss: 0.257 |  Val. Acc: 55.56%\n",
      "Epoch: 21 | Epoch Time: 0m 0s\n",
      "\tTrain Loss: 0.206 | Train Acc: 61.61%\n",
      "\t Val. Loss: 0.278 |  Val. Acc: 55.56%\n",
      "Epoch: 22 | Epoch Time: 0m 0s\n",
      "\tTrain Loss: 0.251 | Train Acc: 60.42%\n",
      "\t Val. Loss: 0.270 |  Val. Acc: 55.56%\n",
      "Epoch: 23 | Epoch Time: 0m 0s\n",
      "\tTrain Loss: 0.216 | Train Acc: 61.04%\n",
      "\t Val. Loss: 0.245 |  Val. Acc: 54.17%\n",
      "Epoch: 24 | Epoch Time: 0m 0s\n",
      "\tTrain Loss: 0.233 | Train Acc: 56.20%\n",
      "\t Val. Loss: 0.248 |  Val. Acc: 55.56%\n",
      "Epoch: 25 | Epoch Time: 0m 0s\n",
      "\tTrain Loss: 0.231 | Train Acc: 53.02%\n",
      "\t Val. Loss: 0.236 |  Val. Acc: 55.56%\n",
      "Epoch: 26 | Epoch Time: 0m 0s\n",
      "\tTrain Loss: 0.201 | Train Acc: 55.42%\n",
      "\t Val. Loss: 0.237 |  Val. Acc: 55.56%\n",
      "Epoch: 27 | Epoch Time: 0m 0s\n",
      "\tTrain Loss: 0.225 | Train Acc: 50.68%\n",
      "\t Val. Loss: 0.260 |  Val. Acc: 52.78%\n",
      "Epoch: 28 | Epoch Time: 0m 0s\n",
      "\tTrain Loss: 0.194 | Train Acc: 59.01%\n",
      "\t Val. Loss: 0.224 |  Val. Acc: 54.17%\n",
      "Epoch: 29 | Epoch Time: 0m 0s\n",
      "\tTrain Loss: 0.188 | Train Acc: 55.94%\n",
      "\t Val. Loss: 0.222 |  Val. Acc: 54.17%\n",
      "Epoch: 30 | Epoch Time: 0m 0s\n",
      "\tTrain Loss: 0.173 | Train Acc: 54.64%\n",
      "\t Val. Loss: 0.243 |  Val. Acc: 52.78%\n"
     ]
    }
   ],
   "source": [
    "N_EPOCHS = 30\n",
    "\n",
    "train_loss = np.zeros(N_EPOCHS)\n",
    "train_acc = np.zeros(N_EPOCHS)\n",
    "train_prec = np.zeros(N_EPOCHS)\n",
    "train_recall = np.zeros(N_EPOCHS)\n",
    "train_f1 = np.zeros(N_EPOCHS)\n",
    "\n",
    "valid_loss = np.zeros(N_EPOCHS)\n",
    "valid_acc = np.zeros(N_EPOCHS)\n",
    "valid_prec = np.zeros(N_EPOCHS)\n",
    "valid_recall = np.zeros(N_EPOCHS)\n",
    "valid_f1 = np.zeros(N_EPOCHS)\n",
    "\n",
    "\n",
    "best_valid_loss = float('inf')\n",
    "\n",
    "for i in range(N_EPOCHS):\n",
    "\n",
    "    start_time = time.time()\n",
    "    \n",
    "    train_loss[i], train_acc[i], train_prec[i], train_recall[i], train_f1[i] = train(model, train_dataloader, optimizer, criterion)\n",
    "    valid_loss[i], valid_acc[i], valid_prec[i], valid_recall[i], valid_f1[i] = evaluate(model, valid_dataloader, criterion)\n",
    "    \n",
    "    end_time = time.time()\n",
    "\n",
    "    epoch_mins, epoch_secs = epoch_time(start_time, end_time)\n",
    "    \n",
    "    if valid_loss[i] < best_valid_loss:\n",
    "        best_valid_loss = valid_loss[i]\n",
    "        torch.save(model.state_dict(), 'cnn-agg.pt')\n",
    "    \n",
    "    print(f'Epoch: {i+1:02} | Epoch Time: {epoch_mins}m {epoch_secs}s')\n",
    "    print(f'\\tTrain Loss: {train_loss[i]:.3f} | Train Acc: {train_acc[i]*100:.2f}%')\n",
    "    print(f'\\t Val. Loss: {valid_loss[i]:.3f} |  Val. Acc: {valid_acc[i]*100:.2f}%')"
   ]
  },
  {
   "cell_type": "markdown",
   "id": "29fb0918-c7b6-4cec-952c-7ceb45993a0d",
   "metadata": {
    "tags": []
   },
   "source": [
    "## Analysis"
   ]
  },
  {
   "cell_type": "code",
   "execution_count": 27,
   "id": "c426243e-d646-4fec-9feb-3f8477c79ee8",
   "metadata": {},
   "outputs": [],
   "source": [
    "from sklearn.metrics import confusion_matrix\n",
    "from matplotlib import pyplot as plt\n",
    "\n",
    "def predict(model, x):\n",
    "    x = torch.from_numpy(x).to(device)\n",
    "    with torch.no_grad():\n",
    "        return torch.argmax(torch.softmax(model(x), 0), dim=1).cpu().detach().numpy()\n",
    "\n",
    "def confusion_matrix_plot(y_pred, y_true):\n",
    "    cm = confusion_matrix(y_pred, y_true, normalize='true')\n",
    "    normalize = True\n",
    "    cmap = 'RdPu'\n",
    "    classes = [0, 1, 2]\n",
    "    title = 'cofusion matrix'\n",
    "    fig, ax = plt.subplots()\n",
    "    im = ax.imshow(cm, interpolation='nearest', cmap=cmap)\n",
    "    ax.figure.colorbar(im, ax = ax)\n",
    "    ax.set(xticks = np.arange(cm.shape[1]), yticks = np.arange(cm.shape[0]), xticklabels = classes, yticklabels = classes, ylabel = 'True label', xlabel = 'Predicted label', title = title)\n",
    "    plt.setp(ax.get_xticklabels(), rotation=45, ha = 'right', rotation_mode = 'anchor')\n",
    "    fmt = '.2f' if normalize else 'd'\n",
    "    thresh = cm.max() / 2\n",
    "    for i in range(cm.shape[0]):\n",
    "        for j in range(cm.shape[1]):\n",
    "            ax.text(j, i, format(cm[i, j], fmt), ha = 'center', va = 'center', color = 'white' if cm[i,j] > thresh else 'black')\n",
    "            fig.tight_layout()\n",
    "\n",
    "def metric_epoch(train_loss, valid_loss, train_f1, valid_f1):\n",
    "    x = range(0, len(train_loss))\n",
    "    plt.figure(figsize=(14,3))\n",
    "    grid = plt.GridSpec(3, 2, wspace=0.5, hspace=0.5)\n",
    "    plt.subplot(grid[:,0])\n",
    "    plt.plot(x, train_f1, color=\"r\", marker='o',markersize='1.5',markeredgecolor='r',markeredgewidth = 1.5, label = 'Train F1 score')\n",
    "    plt.plot(x, valid_f1, color=\"b\", marker='o',markersize='1.5',markeredgecolor='b',markeredgewidth = 1.5, label = 'Valid F1 score')\n",
    "    plt.legend()\n",
    "    plt.title('F1 score vs epoches')\n",
    "    plt.xlabel('epoches')\n",
    "    plt.ylabel('F1 score')\n",
    "    plt.subplot(grid[:,1])\n",
    "    plt.plot(x, train_loss, color=\"red\", marker='o',markersize='1.5',markeredgecolor='r',markeredgewidth = 1.5, label = 'Train Loss')\n",
    "    plt.plot(x, valid_loss, color=\"blue\", marker='o',markersize='1.5',markeredgecolor='b',markeredgewidth = 1.5, label = 'Valid Loss')\n",
    "    plt.legend()\n",
    "    plt.title('Loss vs epoches')\n",
    "    plt.xlabel('epoches')\n",
    "    plt.ylabel('Loss')\n",
    "    plt.show()"
   ]
  },
  {
   "cell_type": "code",
   "execution_count": 28,
   "id": "3fd30edc-1039-484e-9a5a-300080490e80",
   "metadata": {},
   "outputs": [
    {
     "data": {
      "image/png": "[encoded data removed]",
      "text/plain": [
       "<Figure size 1008x216 with 2 Axes>"
      ]
     },
     "metadata": {
      "needs_background": "light"
     },
     "output_type": "display_data"
    }
   ],
   "source": [
    "metric_epoch(train_loss, valid_loss, train_f1, valid_f1)"
   ]
  },
  {
   "cell_type": "markdown",
   "id": "f1765f66-8698-4358-92b9-576fac3a0c63",
   "metadata": {},
   "source": [
    "### Test Set"
   ]
  },
  {
   "cell_type": "code",
   "execution_count": 17,
   "id": "1376c4c7-2f3d-4724-b06a-aea33fd10c8d",
   "metadata": {},
   "outputs": [
    {
     "name": "stdout",
     "output_type": "stream",
     "text": [
      "Test Loss: 0.157 | Test Acc: 66.67% | Test Prec: 82.22% | Test Recall: 63.60% | Test F1: 58.87%\n"
     ]
    }
   ],
   "source": [
    "model.load_state_dict(torch.load('cnn-agg.pt'))\n",
    "\n",
    "test_loss, test_acc, test_prec, test_recall, test_f1 = evaluate(model, test_dataloader, criterion)\n",
    "print(f'Test Loss: {test_loss:.3f} | Test Acc: {test_acc*100:.2f}% | Test Prec: {test_prec*100:.2f}% | Test Recall: {test_recall*100:.2f}% | Test F1: {test_f1*100:.2f}%')"
   ]
  },
  {
   "cell_type": "code",
   "execution_count": 18,
   "id": "d0adaccb-3ac5-47ab-a096-a0661eeae311",
   "metadata": {},
   "outputs": [
    {
     "data": {
      "image/png": "[encoded data removed]",
      "text/plain": [
       "<Figure size 432x288 with 2 Axes>"
      ]
     },
     "metadata": {
      "needs_background": "light"
     },
     "output_type": "display_data"
    }
   ],
   "source": [
    "confusion_matrix_plot(predict(model, x_test), y_test)"
   ]
  },
  {
   "cell_type": "markdown",
   "id": "b741eb59-7216-41f2-91cd-ffe4dbbbefd5",
   "metadata": {},
   "source": [
    "### Target Set"
   ]
  },
  {
   "cell_type": "code",
   "execution_count": 19,
   "id": "f79c659b-392a-4eef-b69d-f7cb6f0930e7",
   "metadata": {},
   "outputs": [
    {
     "name": "stdout",
     "output_type": "stream",
     "text": [
      "Test Loss: 7.051 | Test Acc: 11.90% | Test Prec: 22.17% | Test Recall: 6.61% | Test F1: 8.29%\n"
     ]
    }
   ],
   "source": [
    "model.load_state_dict(torch.load('cnn-agg.pt'))\n",
    "\n",
    "test_loss, test_acc, test_prec, test_recall, test_f1 = evaluate(model, target_dataloader, criterion)\n",
    "print(f'Test Loss: {test_loss:.3f} | Test Acc: {test_acc*100:.2f}% | Test Prec: {test_prec*100:.2f}% | Test Recall: {test_recall*100:.2f}% | Test F1: {test_f1*100:.2f}%')"
   ]
  },
  {
   "cell_type": "code",
   "execution_count": 20,
   "id": "b0cb1fcf-50f0-4d16-93fe-03876a87d5c8",
   "metadata": {},
   "outputs": [
    {
     "data": {
      "image/png": "[encoded data removed]",
      "text/plain": [
       "<Figure size 432x288 with 2 Axes>"
      ]
     },
     "metadata": {
      "needs_background": "light"
     },
     "output_type": "display_data"
    }
   ],
   "source": [
    "confusion_matrix_plot(predict(model, target_dataset_raw), y_target)"
   ]
  },
  {
   "cell_type": "markdown",
   "id": "67dbaaa2-ad44-4f39-ab45-32a06e13c7f5",
   "metadata": {},
   "source": [
    "### Training Model With DRCA"
   ]
  },
  {
   "cell_type": "code",
   "execution_count": 21,
   "id": "87d1a561-51ae-44d9-a95a-6b3266b7151f",
   "metadata": {
    "scrolled": true,
    "tags": []
   },
   "outputs": [
    {
     "name": "stdout",
     "output_type": "stream",
     "text": [
      "Epoch: 01 | Epoch Time: 0m 0s\n",
      "\tTrain Loss: 1.122 | Train Acc: 46.15%\n",
      "\t Val. Loss: 1.109 |  Val. Acc: 79.17%\n",
      "Epoch: 02 | Epoch Time: 0m 0s\n",
      "\tTrain Loss: 1.082 | Train Acc: 60.31%\n",
      "\t Val. Loss: 0.978 |  Val. Acc: 79.17%\n",
      "Epoch: 03 | Epoch Time: 0m 0s\n",
      "\tTrain Loss: 0.948 | Train Acc: 64.74%\n",
      "\t Val. Loss: 0.922 |  Val. Acc: 79.17%\n",
      "Epoch: 04 | Epoch Time: 0m 0s\n",
      "\tTrain Loss: 0.950 | Train Acc: 70.89%\n",
      "\t Val. Loss: 0.831 |  Val. Acc: 76.39%\n",
      "Epoch: 05 | Epoch Time: 0m 0s\n",
      "\tTrain Loss: 0.857 | Train Acc: 71.88%\n",
      "\t Val. Loss: 0.793 |  Val. Acc: 76.39%\n",
      "Epoch: 06 | Epoch Time: 0m 0s\n",
      "\tTrain Loss: 0.803 | Train Acc: 70.05%\n",
      "\t Val. Loss: 0.754 |  Val. Acc: 70.83%\n",
      "Epoch: 07 | Epoch Time: 0m 0s\n",
      "\tTrain Loss: 0.736 | Train Acc: 69.11%\n",
      "\t Val. Loss: 0.657 |  Val. Acc: 61.11%\n",
      "Epoch: 08 | Epoch Time: 0m 0s\n",
      "\tTrain Loss: 0.677 | Train Acc: 71.15%\n",
      "\t Val. Loss: 0.601 |  Val. Acc: 58.33%\n",
      "Epoch: 09 | Epoch Time: 0m 0s\n",
      "\tTrain Loss: 0.638 | Train Acc: 67.19%\n",
      "\t Val. Loss: 0.551 |  Val. Acc: 54.17%\n",
      "Epoch: 10 | Epoch Time: 0m 0s\n",
      "\tTrain Loss: 0.566 | Train Acc: 66.15%\n",
      "\t Val. Loss: 0.515 |  Val. Acc: 50.00%\n",
      "Epoch: 11 | Epoch Time: 0m 0s\n",
      "\tTrain Loss: 0.530 | Train Acc: 60.73%\n",
      "\t Val. Loss: 0.469 |  Val. Acc: 50.00%\n",
      "Epoch: 12 | Epoch Time: 0m 0s\n",
      "\tTrain Loss: 0.483 | Train Acc: 64.69%\n",
      "\t Val. Loss: 0.427 |  Val. Acc: 48.61%\n",
      "Epoch: 13 | Epoch Time: 0m 0s\n",
      "\tTrain Loss: 0.473 | Train Acc: 64.17%\n",
      "\t Val. Loss: 0.382 |  Val. Acc: 50.00%\n",
      "Epoch: 14 | Epoch Time: 0m 0s\n",
      "\tTrain Loss: 0.425 | Train Acc: 65.99%\n",
      "\t Val. Loss: 0.359 |  Val. Acc: 54.17%\n",
      "Epoch: 15 | Epoch Time: 0m 0s\n",
      "\tTrain Loss: 0.398 | Train Acc: 71.93%\n",
      "\t Val. Loss: 0.324 |  Val. Acc: 54.17%\n",
      "Epoch: 16 | Epoch Time: 0m 0s\n",
      "\tTrain Loss: 0.410 | Train Acc: 67.14%\n",
      "\t Val. Loss: 0.300 |  Val. Acc: 54.17%\n",
      "Epoch: 17 | Epoch Time: 0m 0s\n",
      "\tTrain Loss: 0.385 | Train Acc: 67.34%\n",
      "\t Val. Loss: 0.286 |  Val. Acc: 58.33%\n",
      "Epoch: 18 | Epoch Time: 0m 0s\n",
      "\tTrain Loss: 0.339 | Train Acc: 72.34%\n",
      "\t Val. Loss: 0.268 |  Val. Acc: 61.11%\n",
      "Epoch: 19 | Epoch Time: 0m 0s\n",
      "\tTrain Loss: 0.349 | Train Acc: 72.14%\n",
      "\t Val. Loss: 0.260 |  Val. Acc: 63.89%\n",
      "Epoch: 20 | Epoch Time: 0m 0s\n",
      "\tTrain Loss: 0.328 | Train Acc: 75.78%\n",
      "\t Val. Loss: 0.251 |  Val. Acc: 62.50%\n",
      "Epoch: 21 | Epoch Time: 0m 0s\n",
      "\tTrain Loss: 0.319 | Train Acc: 70.68%\n",
      "\t Val. Loss: 0.234 |  Val. Acc: 63.89%\n",
      "Epoch: 22 | Epoch Time: 0m 0s\n",
      "\tTrain Loss: 0.314 | Train Acc: 71.25%\n",
      "\t Val. Loss: 0.220 |  Val. Acc: 62.50%\n",
      "Epoch: 23 | Epoch Time: 0m 0s\n",
      "\tTrain Loss: 0.308 | Train Acc: 71.20%\n",
      "\t Val. Loss: 0.221 |  Val. Acc: 62.50%\n",
      "Epoch: 24 | Epoch Time: 0m 0s\n",
      "\tTrain Loss: 0.309 | Train Acc: 73.65%\n",
      "\t Val. Loss: 0.207 |  Val. Acc: 62.50%\n",
      "Epoch: 25 | Epoch Time: 0m 0s\n",
      "\tTrain Loss: 0.312 | Train Acc: 69.32%\n",
      "\t Val. Loss: 0.202 |  Val. Acc: 62.50%\n",
      "Epoch: 26 | Epoch Time: 0m 0s\n",
      "\tTrain Loss: 0.297 | Train Acc: 71.09%\n",
      "\t Val. Loss: 0.206 |  Val. Acc: 62.50%\n",
      "Epoch: 27 | Epoch Time: 0m 0s\n",
      "\tTrain Loss: 0.287 | Train Acc: 71.20%\n",
      "\t Val. Loss: 0.193 |  Val. Acc: 61.11%\n",
      "Epoch: 28 | Epoch Time: 0m 0s\n",
      "\tTrain Loss: 0.301 | Train Acc: 68.91%\n",
      "\t Val. Loss: 0.211 |  Val. Acc: 61.11%\n",
      "Epoch: 29 | Epoch Time: 0m 0s\n",
      "\tTrain Loss: 0.260 | Train Acc: 67.19%\n",
      "\t Val. Loss: 0.191 |  Val. Acc: 59.72%\n",
      "Epoch: 30 | Epoch Time: 0m 0s\n",
      "\tTrain Loss: 0.294 | Train Acc: 68.59%\n",
      "\t Val. Loss: 0.206 |  Val. Acc: 61.11%\n",
      "Epoch: 31 | Epoch Time: 0m 0s\n",
      "\tTrain Loss: 0.273 | Train Acc: 69.22%\n",
      "\t Val. Loss: 0.193 |  Val. Acc: 61.11%\n",
      "Epoch: 32 | Epoch Time: 0m 0s\n",
      "\tTrain Loss: 0.258 | Train Acc: 65.36%\n",
      "\t Val. Loss: 0.177 |  Val. Acc: 61.11%\n",
      "Epoch: 33 | Epoch Time: 0m 0s\n",
      "\tTrain Loss: 0.276 | Train Acc: 70.05%\n",
      "\t Val. Loss: 0.184 |  Val. Acc: 61.11%\n",
      "Epoch: 34 | Epoch Time: 0m 0s\n",
      "\tTrain Loss: 0.239 | Train Acc: 70.89%\n",
      "\t Val. Loss: 0.186 |  Val. Acc: 61.11%\n",
      "Epoch: 35 | Epoch Time: 0m 0s\n",
      "\tTrain Loss: 0.225 | Train Acc: 78.44%\n",
      "\t Val. Loss: 0.171 |  Val. Acc: 61.11%\n",
      "Epoch: 36 | Epoch Time: 0m 0s\n",
      "\tTrain Loss: 0.229 | Train Acc: 68.18%\n",
      "\t Val. Loss: 0.193 |  Val. Acc: 61.11%\n",
      "Epoch: 37 | Epoch Time: 0m 0s\n",
      "\tTrain Loss: 0.244 | Train Acc: 67.24%\n",
      "\t Val. Loss: 0.170 |  Val. Acc: 62.50%\n",
      "Epoch: 38 | Epoch Time: 0m 0s\n",
      "\tTrain Loss: 0.229 | Train Acc: 67.97%\n",
      "\t Val. Loss: 0.173 |  Val. Acc: 62.50%\n",
      "Epoch: 39 | Epoch Time: 0m 0s\n",
      "\tTrain Loss: 0.209 | Train Acc: 67.08%\n",
      "\t Val. Loss: 0.176 |  Val. Acc: 62.50%\n",
      "Epoch: 40 | Epoch Time: 0m 0s\n",
      "\tTrain Loss: 0.205 | Train Acc: 70.00%\n",
      "\t Val. Loss: 0.176 |  Val. Acc: 62.50%\n"
     ]
    }
   ],
   "source": [
    "N_EPOCHS = 40\n",
    "\n",
    "best_valid_loss = float('inf')\n",
    "train_loss_drca = np.zeros(N_EPOCHS)\n",
    "train_acc_drca = np.zeros(N_EPOCHS)\n",
    "train_prec_drca = np.zeros(N_EPOCHS)\n",
    "train_recall_drca = np.zeros(N_EPOCHS)\n",
    "train_f1_drca = np.zeros(N_EPOCHS)\n",
    "\n",
    "valid_loss_drca = np.zeros(N_EPOCHS)\n",
    "valid_acc_drca = np.zeros(N_EPOCHS)\n",
    "valid_prec_drca = np.zeros(N_EPOCHS)\n",
    "valid_recall_drca = np.zeros(N_EPOCHS)\n",
    "valid_f1_drca = np.zeros(N_EPOCHS)\n",
    "\n",
    "\n",
    "for i in range(N_EPOCHS):\n",
    "\n",
    "    start_time = time.time()\n",
    "    \n",
    "    train_loss_drca[i], train_acc_drca[i], train_prec_drca[i], train_recall_drca[i], train_f1_drca[i] = train(model_drca,\n",
    "                                                                                                              train_dataloader_drca,\n",
    "                                                                                                              optimizer_drca,\n",
    "                                                                                                              criterion)\n",
    "    valid_loss_drca[i], valid_acc_drca[i], valid_prec_drca[i], valid_recall_drca[i], valid_f1_drca[i] = evaluate(model_drca,\n",
    "                                                                                                                 valid_dataloader_drca,\n",
    "                                                                                                                 criterion)\n",
    "    \n",
    "    end_time = time.time()\n",
    "\n",
    "    epoch_mins, epoch_secs = epoch_time(start_time, end_time)\n",
    "    \n",
    "    if valid_loss_drca[i] < best_valid_loss:\n",
    "        best_valid_loss = valid_loss_drca[i]\n",
    "        torch.save(model_drca.state_dict(), 'cnn-agg-drca.pt')\n",
    "    \n",
    "    print(f'Epoch: {i+1:02} | Epoch Time: {epoch_mins}m {epoch_secs}s')\n",
    "    print(f'\\tTrain Loss: {train_loss_drca[i]:.3f} | Train Acc: {train_acc_drca[i]*100:.2f}%')\n",
    "    print(f'\\t Val. Loss: {valid_loss_drca[i]:.3f} |  Val. Acc: {valid_acc_drca[i]*100:.2f}%')"
   ]
  },
  {
   "cell_type": "markdown",
   "id": "3c871f24-0a14-4fda-b00a-7a2f5c030024",
   "metadata": {},
   "source": [
    "### Test Set"
   ]
  },
  {
   "cell_type": "markdown",
   "id": "eb7f88ed-b9bd-4b21-ab1d-02c873ff2606",
   "metadata": {},
   "source": [
    "## Analysis"
   ]
  },
  {
   "cell_type": "code",
   "execution_count": 22,
   "id": "f8071fd5-5f45-4a33-befa-55830b1e5968",
   "metadata": {},
   "outputs": [
    {
     "data": {
      "image/png": "[encoded data removed]",
      "text/plain": [
       "<Figure size 1008x216 with 2 Axes>"
      ]
     },
     "metadata": {
      "needs_background": "light"
     },
     "output_type": "display_data"
    }
   ],
   "source": [
    "metric_epoch(train_loss_drca, valid_loss_drca, train_f1_drca, valid_f1_drca)"
   ]
  },
  {
   "cell_type": "code",
   "execution_count": 23,
   "id": "a6779487-b963-4ce1-8fc3-3925bb1d8690",
   "metadata": {},
   "outputs": [
    {
     "name": "stdout",
     "output_type": "stream",
     "text": [
      "Test Loss: 0.149 | Test Acc: 70.83% | Test Prec: 83.33% | Test Recall: 71.00% | Test F1: 70.07%\n"
     ]
    }
   ],
   "source": [
    "model_drca.load_state_dict(torch.load('cnn-agg-drca.pt'))\n",
    "\n",
    "test_loss, test_acc, test_prec, test_recall, test_f1 = evaluate(model_drca, test_dataloader_drca, criterion)\n",
    "print(f'Test Loss: {test_loss:.3f} | Test Acc: {test_acc*100:.2f}% | Test Prec: {test_prec*100:.2f}% | Test Recall: {test_recall*100:.2f}% | Test F1: {test_f1*100:.2f}%')"
   ]
  },
  {
   "cell_type": "code",
   "execution_count": 24,
   "id": "4fddb66e-7b1a-475c-8e81-86bdbb30c535",
   "metadata": {},
   "outputs": [
    {
     "data": {
      "image/png": "[encoded data removed]",
      "text/plain": [
       "<Figure size 432x288 with 2 Axes>"
      ]
     },
     "metadata": {
      "needs_background": "light"
     },
     "output_type": "display_data"
    }
   ],
   "source": [
    "confusion_matrix_plot(predict(model_drca, x_test_drca), y_test_drca)"
   ]
  },
  {
   "cell_type": "markdown",
   "id": "743fccd6-64d9-4f02-83c0-6fe316e7aa11",
   "metadata": {},
   "source": [
    "### Target Set"
   ]
  },
  {
   "cell_type": "code",
   "execution_count": 25,
   "id": "9669b15e-8918-44c0-9238-598d58bda12b",
   "metadata": {},
   "outputs": [
    {
     "name": "stdout",
     "output_type": "stream",
     "text": [
      "Test Loss: 6.023 | Test Acc: 43.11% | Test Prec: 47.86% | Test Recall: 27.98% | Test F1: 31.87%\n"
     ]
    }
   ],
   "source": [
    "model_drca.load_state_dict(torch.load('cnn-agg-drca.pt'))\n",
    "\n",
    "test_loss, test_acc, test_prec, test_recall, test_f1 = evaluate(model_drca, target_dataloader_drca, criterion)\n",
    "print(f'Test Loss: {test_loss:.3f} | Test Acc: {test_acc*100:.2f}% | Test Prec: {test_prec*100:.2f}% | Test Recall: {test_recall*100:.2f}% | Test F1: {test_f1*100:.2f}%')"
   ]
  },
  {
   "cell_type": "code",
   "execution_count": 26,
   "id": "5c972cd0-42f3-4af8-b90a-a81362971307",
   "metadata": {},
   "outputs": [
    {
     "data": {
      "image/png": "[encoded data removed]",
      "text/plain": [
       "<Figure size 432x288 with 2 Axes>"
      ]
     },
     "metadata": {
      "needs_background": "light"
     },
     "output_type": "display_data"
    }
   ],
   "source": [
    "confusion_matrix_plot(predict(model_drca, target_dataset_drca), y_target)"
   ]
  },
  {
   "cell_type": "code",
   "execution_count": null,
   "id": "e780c81c-d94f-4eae-9483-898ae258d704",
   "metadata": {},
   "outputs": [],
   "source": []
  }
 ],
 "metadata": {
  "environment": {
   "kernel": "python3",
   "name": "pytorch-gpu.1-9.m82",
   "type": "gcloud",
   "uri": "gcr.io/deeplearning-platform-release/pytorch-gpu.1-9:m82"
  },
  "kernelspec": {
   "display_name": "Python 3",
   "language": "python",
   "name": "python3"
  },
  "language_info": {
   "codemirror_mode": {
    "name": "ipython",
    "version": 3
   },
   "file_extension": ".py",
   "mimetype": "text/x-python",
   "name": "python",
   "nbconvert_exporter": "python",
   "pygments_lexer": "ipython3",
   "version": "3.7.10"
  }
 },
 "nbformat": 4,
 "nbformat_minor": 5
}
