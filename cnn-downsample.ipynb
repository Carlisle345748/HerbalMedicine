{
 "cells": [
  {
   "cell_type": "code",
   "execution_count": 1,
   "id": "f4c7abce-5681-443a-82d7-8ac14d4d530a",
   "metadata": {},
   "outputs": [],
   "source": [
    "import torch\n",
    "import numpy as np\n",
    "import torch.nn as nn\n",
    "import torch.optim as optim\n",
    "from torch.utils.data import Dataset, DataLoader\n",
    "import torchmetrics\n",
    "from scipy.io import loadmat\n",
    "from sklearn.model_selection import train_test_split\n",
    "\n",
    "device = torch.device('cuda' if torch.cuda.is_available() else 'cpu')"
   ]
  },
  {
   "cell_type": "code",
   "execution_count": 2,
   "id": "f9eb269e-9c6b-49c8-8e57-98ed028e846a",
   "metadata": {},
   "outputs": [],
   "source": [
    "# Input\n",
    "dataset_mat = loadmat('Source_Target_BZ_DG_GG_down_sample.mat')\n",
    "source_dataset_raw=np.vstack((dataset_mat['target_BZ_down_sample_points'],\n",
    "                              dataset_mat['target_DG_down_sample_points'],\n",
    "                              dataset_mat['target_GG_down_sample_points'])).transpose(0,2,1)\n",
    "target_dataset_raw=np.vstack((dataset_mat['Source_BZ_down_sample_points'],\n",
    "                              dataset_mat['Source_DG_down_sample_points'],\n",
    "                              dataset_mat['Source_GG_down_sample_points']))"
   ]
  },
  {
   "cell_type": "code",
   "execution_count": 3,
   "id": "f3e823f2-aec9-4188-a2a8-c5c1d1ac4b41",
   "metadata": {},
   "outputs": [
    {
     "data": {
      "text/plain": [
       "[<matplotlib.lines.Line2D at 0x7f7efc169d50>]"
      ]
     },
     "execution_count": 3,
     "metadata": {},
     "output_type": "execute_result"
    },
    {
     "data": {
      "image/png": "[encoded data removed]",
      "text/plain": [
       "<Figure size 432x288 with 1 Axes>"
      ]
     },
     "metadata": {
      "needs_background": "light"
     },
     "output_type": "display_data"
    }
   ],
   "source": [
    "from matplotlib import pyplot as plt\n",
    "\n",
    "plt.plot(range(318), source_dataset_raw[0,0,:])"
   ]
  },
  {
   "cell_type": "code",
   "execution_count": 4,
   "id": "ec34033d-677d-4a2c-82d6-e8d3b02ed60d",
   "metadata": {},
   "outputs": [
    {
     "data": {
      "text/plain": [
       "[<matplotlib.lines.Line2D at 0x7f7efc05da10>]"
      ]
     },
     "execution_count": 4,
     "metadata": {},
     "output_type": "execute_result"
    },
    {
     "data": {
      "image/png": "[encoded data removed]",
      "text/plain": [
       "<Figure size 432x288 with 1 Axes>"
      ]
     },
     "metadata": {
      "needs_background": "light"
     },
     "output_type": "display_data"
    }
   ],
   "source": [
    "plt.plot(range(318), target_dataset_raw[0,0,:])"
   ]
  },
  {
   "cell_type": "code",
   "execution_count": 5,
   "id": "6b6d5b7b-78f2-4b97-b790-d22e848a07cc",
   "metadata": {},
   "outputs": [],
   "source": [
    "# Labels\n",
    "y_source=np.hstack((0*np.ones(160),1*np.ones(160),2*np.ones(160))).astype(np.int64)\n",
    "y_target=np.hstack((0*np.ones(50),1*np.ones(50),2*np.ones(50))).astype(np.int64)"
   ]
  },
  {
   "cell_type": "code",
   "execution_count": 6,
   "id": "b4724247-95d0-440c-a203-59f1bf661bac",
   "metadata": {},
   "outputs": [
    {
     "name": "stdout",
     "output_type": "stream",
     "text": [
      "(480, 16, 318)\n",
      "(150, 16, 318)\n",
      "(480,)\n",
      "(150,)\n"
     ]
    }
   ],
   "source": [
    "print(source_dataset_raw.shape)\n",
    "print(target_dataset_raw.shape)\n",
    "print(y_source.shape)\n",
    "print(y_target.shape)"
   ]
  },
  {
   "cell_type": "markdown",
   "id": "332253c4-dc5f-4dd1-a0ae-8ed11398e7c4",
   "metadata": {},
   "source": [
    "### DRCA"
   ]
  },
  {
   "cell_type": "code",
   "execution_count": 7,
   "id": "840ee918-800a-40be-99fc-0735186c99b1",
   "metadata": {},
   "outputs": [],
   "source": [
    "class DRCA():\n",
    "    '''\n",
    "    The DRCA Class\n",
    "    '''\n",
    "    def __init__(self, n_components = 2,alpha = None, mode = 'raw'):\n",
    "        '''\n",
    "        The function to initialize the DRCA class\n",
    "        :param n_components: The intended dimensionality of projection hyperplane smaller than the initial dimensionality\n",
    "        :param alpha: weighting factor for target domain data within class scatter\n",
    "        :param mode: the mode of DRCA:\n",
    "            'raw': consider source domain data (S) and target domain data (T) as two groups\n",
    "            'number': consider type-specific source domain data and target domain data based on the average number of cases in S and T\n",
    "            'mean': equal weights for each class\n",
    "        '''\n",
    "        self.mode = mode\n",
    "        self.Sw_s = None\n",
    "        self.Sw_t = None\n",
    "        self.mu_s = None\n",
    "        self.mu_t = None\n",
    "        self.alpha = alpha\n",
    "        self.D_tilde = n_components\n",
    "    pass\n",
    "\n",
    "    def fit(self, Xs, Xt, Ys=None, Yt = None):\n",
    "        '''\n",
    "        This function fit the DRCA model with the data and labels given by users\n",
    "        :param Xs: the feature matrix of shape (Ns, D) in source domain, np.array\n",
    "        :param Xt: the feature matrix of shape (Nt, D) in target domain, np.array\n",
    "        :param Ys: the label of the data of shape (Ns,) in source domain, np.array, int\n",
    "        :param Yt: the label of the data of shape (Nt,) in target domain, np.array, int\n",
    "        '''\n",
    "        ### --- Summarize statistics --- ###\n",
    "        if self.mode != 'raw':\n",
    "            Ys = Ys.reshape(-1,) #we need to use Y and make sure the Y is the intended form\n",
    "            Yt = Yt.reshape(-1,)\n",
    "        Ns = Xs.shape[0]\n",
    "        Nt = Xt.shape[0]\n",
    "        D = Xs.shape[1]\n",
    "        \n",
    "        ### --- Within-domain scatter --- ###\n",
    "        self.mu_s = np.mean(Xs,axis=0,keepdims=True) #1*D\n",
    "        self.mu_t = np.mean(Xt,axis=0,keepdims=True)\n",
    "        self.Sw_s = (Xs - self.mu_s).T @ (Xs - self.mu_s) #D*D\n",
    "        self.Sw_t = (Xt - self.mu_t).T @ (Xt - self.mu_t) #D*D\n",
    "        if self.alpha == None:\n",
    "            self.alpha = Ns/Nt\n",
    "        self.nominator = self.Sw_s + self.Sw_t * self.alpha\n",
    "        \n",
    "        ### --- Eliminate sensor drifts --- ###\n",
    "        if self.mode == 'raw': #S and T as two entities\n",
    "            self.denominator = (self.mu_s - self.mu_t).T @ (self.mu_s-self.mu_t) #D*D\n",
    "        elif self.mode == 'number': #Focus on the same classes appeared in target domain\n",
    "            Kt = np.unique(Yt).shape[0] #Assume that the target domain classes are fewer \n",
    "            self.denominator = np.empty((D,D))\n",
    "            for i in range(Kt):\n",
    "                Ns = np.mean(Ys==Kt[i])\n",
    "                Nt = np.mean(Yt==Kt[i])\n",
    "                N = 0.5*(self.Ns+self.Nt)#self. ???????????????????\n",
    "                mu_s_matrix = np.mean(Xs[Ys==Kt[i],:],axis=0,keepdims=True)\n",
    "                mu_t_matrix = np.mean(Xt[Yt==Kt[i],:],axis=0,keepdims=True)\n",
    "                Sb_matrix = (self.mu_s_matrix-self.mu_t_matrix).T @ (self.mu_s_matrix-self.mu_t_matrix)\n",
    "                self.denomiator += N * Sb_matrix\n",
    "        elif self.mode == 'mean': #Equal weights for every class\n",
    "            Kt = np.unique(Yt).shape[0] #Assume that the target domain classes are fewer \n",
    "            self.denominator = np.empty((D,D))\n",
    "            for i in range(Kt):\n",
    "                mu_s_matrix = np.mean(Xs[Ys==Kt[i],:],axis=0,keepdims=True)#1*D\n",
    "                mu_t_matrix = np.mean(Xt[Yt==Kt[i],:],axis=0,keepdims=True)#1*D\n",
    "                Sb_matrix = (self.mu_s_matrix-self.mu_t_matrix).T @ (self.mu_s_matrix-self.mu_t_matrix)\n",
    "                self.denomiator += Sb_matrix#D*D\n",
    "        \n",
    "        \n",
    "        eigenValues, eigenVectors = np.linalg.eig(np.linalg.pinv(self.denominator) @ self.nominator) #D*D\n",
    "\n",
    "        idx = np.abs(eigenValues).argsort()[::-1]  \n",
    "        self.eigenValues = eigenValues[idx]\n",
    "        self.eigenVectors = eigenVectors[:,idx]\n",
    "        self.W = self.eigenVectors[:,0:self.D_tilde]#shape=(D,D_tilde)\n",
    "    pass    \n",
    "        \n",
    "    def transform(self, X):\n",
    "        '''\n",
    "        This function use the fitted SRLDA model\n",
    "        :param X: the data in np.array of shape (N,D) that needs to be projected to the lower dimension\n",
    "        :return: X_tilde: the projected data in the lower dimensional space in np.array of shape (N, D_tilde)\n",
    "        '''\n",
    "        return np.matmul(X,self.W)   #goal:  (N,D_tilde)      (D_tilde*D)@(D*N).T     (N*D)(D*D_tilde)\n",
    "    pass\n",
    "    \n",
    "    def fit_transform(self, Xs, Xt, Ys=None, Yt = None):\n",
    "        '''\n",
    "        :param Xs: the feature matrix of shape (Ns, D) in source domain, np.array\n",
    "        :param Xt: the feature matrix of shape (Nt, D) in target domain, np.array\n",
    "        :param Ys: the label of the data of shape (Ns,) in source domain, np.array, int\n",
    "        :param Yt: the label of the data of shape (Nt,) in target domain, np.array, int '''\n",
    "                                                  \n",
    "        self.fit(Xs, Xt, Ys, Yt)\n",
    "        return np.real(self.transform(Xs)),np.real(self.transform(Xt)) #N * D_tilde\n",
    "    pass"
   ]
  },
  {
   "cell_type": "markdown",
   "id": "c170f7d0-03de-4a79-9d0d-163f2db01125",
   "metadata": {},
   "source": [
    "### Spilt Dataset"
   ]
  },
  {
   "cell_type": "code",
   "execution_count": 8,
   "id": "82874173-831e-43e2-8003-49d4f390ddba",
   "metadata": {},
   "outputs": [],
   "source": [
    "class HerbalData(Dataset):\n",
    "    def __init__(self, x_train, y_train):\n",
    "        assert len(x_train) == len(y_train)\n",
    "        self.x = x_train\n",
    "        self.y = y_train\n",
    "    \n",
    "    def __len__(self):\n",
    "        return self.x.shape[0]\n",
    "    \n",
    "    def __getitem__(self, idx):\n",
    "        return self.x[idx], self.y[idx]"
   ]
  },
  {
   "cell_type": "code",
   "execution_count": 9,
   "id": "76e6b908-e41d-4e0d-9b02-b6653f6cd363",
   "metadata": {},
   "outputs": [
    {
     "name": "stdout",
     "output_type": "stream",
     "text": [
      "Train Set: (336, 16, 318)\n",
      "Valid Set: (72, 16, 318)\n",
      "Test Set: (72, 16, 318)\n",
      "Target Set: (150, 16, 318)\n"
     ]
    }
   ],
   "source": [
    "# Without DRCA\n",
    "x_train, x_valid, y_train, y_valid = train_test_split(source_dataset_raw, y_source, train_size=0.7, random_state=1)\n",
    "x_valid, x_test, y_valid, y_test = train_test_split(x_valid, y_valid, train_size=0.5, random_state=1)\n",
    "train_set = HerbalData(torch.from_numpy(x_train).to(device), torch.from_numpy(y_train).to(device))\n",
    "valid_set = HerbalData(torch.from_numpy(x_valid).to(device), torch.from_numpy(y_valid).to(device))\n",
    "test_set = HerbalData(torch.from_numpy(x_test).to(device), torch.from_numpy(y_test).to(device))\n",
    "target_set = HerbalData(torch.from_numpy(target_dataset_raw).to(device), torch.from_numpy(y_target).to(device))\n",
    "\n",
    "train_dataloader = DataLoader(train_set, batch_size=128, shuffle=True)\n",
    "valid_dataloader = DataLoader(valid_set, batch_size=128, shuffle=True)\n",
    "test_dataloader = DataLoader(test_set, batch_size=128)\n",
    "target_dataloader = DataLoader(target_set, batch_size=128)\n",
    "\n",
    "print(\"Train Set:\", x_train.shape)\n",
    "print(\"Valid Set:\", x_valid.shape)\n",
    "print(\"Test Set:\", x_test.shape)\n",
    "print(\"Target Set:\", target_dataset_raw.shape)"
   ]
  },
  {
   "cell_type": "code",
   "execution_count": 10,
   "id": "1ea25c58-08d1-437c-b408-d2055946f45f",
   "metadata": {},
   "outputs": [],
   "source": [
    "def DRCA_2D(source, target):\n",
    "    '''\n",
    "    Apply DRCA to 2d dataset\n",
    "    '''\n",
    "    pass"
   ]
  },
  {
   "cell_type": "code",
   "execution_count": 11,
   "id": "004f6569-f589-45b4-862c-ca14dfdddc3e",
   "metadata": {},
   "outputs": [],
   "source": [
    "# With DRCA\n",
    "# drca=DRCA(n_components=50, alpha=10)#n_components and alpha value are hyperparameters\n",
    "# source_dataset_drca, target_dataset_drca = drca.fit_transform(source_dataset_raw,target_dataset_raw)\n",
    "\n",
    "\n",
    "# x_train_drca, x_valid_drca, y_train_drca, y_valid_drca = train_test_split(source_dataset_drca, y_source, train_size=0.6, random_state=1)\n",
    "# train_set_drca = HerbalData(torch.from_numpy(x_train_drca).to(device), torch.from_numpy(y_train_drca).to(device))\n",
    "# valid_set_drca = HerbalData(torch.from_numpy(x_valid_drca).to(device), torch.from_numpy(y_valid_drca).to(device))\n",
    "# test_set_drca = HerbalData(torch.from_numpy(target_dataset_drca).to(device), torch.from_numpy(y_target).to(device))\n",
    "\n",
    "# train_dataloader_drca = DataLoader(train_set_drca, batch_size=64, shuffle=True)\n",
    "# valid_dataloader_drca = DataLoader(valid_set_drca, batch_size=64, shuffle=True)\n",
    "# test_dataloader_drca = DataLoader(test_set_drca, batch_size=64)"
   ]
  },
  {
   "cell_type": "markdown",
   "id": "4124c42b-82ca-41ac-8f98-e30280c1fad5",
   "metadata": {},
   "source": [
    "### CNN-1D"
   ]
  },
  {
   "cell_type": "code",
   "execution_count": 12,
   "id": "5be8fd8f-d420-47da-b436-561fd1e54c62",
   "metadata": {},
   "outputs": [],
   "source": [
    "class CNN1d(nn.Module):\n",
    "    def __init__(self, input_dim, n_filters, filter_sizes, strides, output_dim, dropout):\n",
    "        \n",
    "        super().__init__()\n",
    "        \n",
    "        convs = []\n",
    "        in_channel = 16\n",
    "        conv_dim = input_dim\n",
    "        for i in range(len(n_filters)):\n",
    "            convs.append(nn.Conv1d(in_channels=in_channel, \n",
    "                                   out_channels=n_filters[i], \n",
    "                                   kernel_size=filter_sizes[i],\n",
    "                                   stride=strides[i])\n",
    "                         )\n",
    "            convs.append(nn.MaxPool1d(kernel_size=4, stride=1))\n",
    "            in_channel = n_filters[i]\n",
    "            conv_dim = int((conv_dim - filter_sizes[i])/strides[i] + 1) - 3\n",
    "            \n",
    "        self.convs = nn.Sequential(*convs)\n",
    "        \n",
    "        self.flatten = nn.Flatten()\n",
    "        \n",
    "        self.fc = nn.Sequential(\n",
    "            nn.Linear(conv_dim*n_filters[-1], 32),\n",
    "            nn.Linear(32, output_dim),\n",
    "        )\n",
    "        \n",
    "        self.dropout = nn.Dropout(dropout)\n",
    "        \n",
    "    def forward(self, data):\n",
    "        \n",
    "        # data = [batch size, in_channel, input_dim]\n",
    "        \n",
    "        conved = self.convs(data)\n",
    "        \n",
    "        #conved_n = [batch size, n_filters]\n",
    "        \n",
    "        conved = self.dropout(conved)\n",
    "        \n",
    "        output = self.fc(self.flatten(conved))\n",
    "            \n",
    "        return output"
   ]
  },
  {
   "cell_type": "code",
   "execution_count": 13,
   "id": "26814110-7a65-4d1c-98f6-c330e6fce9b7",
   "metadata": {},
   "outputs": [],
   "source": [
    "INPUT_DIM = x_train.shape[2]\n",
    "# INPUT_DIM_DRCA = x_train_drca.shape[1]\n",
    "N_FILTERS = [32, 64, 128]\n",
    "FILTER_SIZES = [4, 5, 6]\n",
    "STRIDES = [1, 1, 1]\n",
    "OUTPUT_DIM = 3\n",
    "DROPOUT = 0.5\n",
    "\n",
    "model = CNN1d(INPUT_DIM, N_FILTERS, FILTER_SIZES, STRIDES, OUTPUT_DIM, DROPOUT)\n",
    "model.double()\n",
    "model = model.to(device)\n",
    "optimizer = optim.Adam(model.parameters())\n",
    "\n",
    "# model_drca = CNN1d(INPUT_DIM_DRCA, N_FILTERS, FILTER_SIZES, STRIDES, OUTPUT_DIM, DROPOUT)\n",
    "# model_drca.double()\n",
    "# model_drca = model_drca.to(device)\n",
    "# optimizer_drca = optim.Adam(model_drca.parameters())\n",
    "\n",
    "criterion = nn.CrossEntropyLoss()\n",
    "criterion = criterion.to(device)"
   ]
  },
  {
   "cell_type": "code",
   "execution_count": 14,
   "id": "4e6043d3-7b96-44b0-9127-b234f7ca7bc2",
   "metadata": {},
   "outputs": [],
   "source": [
    "def train(model, train_dataloader, optimizer, criterion):\n",
    "    epoch_loss = 0\n",
    "    epoch_acc = 0\n",
    "    epoch_prec = 0\n",
    "    epoch_recall = 0\n",
    "    epoch_f1 = 0\n",
    "    batches = len(train_dataloader)\n",
    "    \n",
    "    model.train()\n",
    "    \n",
    "    for _, batch in enumerate(train_dataloader):\n",
    "        x, y = batch\n",
    "        \n",
    "        optimizer.zero_grad()\n",
    "        \n",
    "        predictions = model(x)\n",
    "        \n",
    "        loss = criterion(predictions, y)\n",
    "        \n",
    "        predictions = torch.argmax(torch.softmax(predictions, 0), dim=1)\n",
    "        acc = torchmetrics.functional.accuracy(predictions, y)\n",
    "        prec, recall = torchmetrics.functional.precision_recall(predictions, y, num_classes=3, average='macro')\n",
    "        f1 = torchmetrics.functional.f1(predictions, y, num_classes=3, average='macro')\n",
    "        \n",
    "        loss.backward()\n",
    "        \n",
    "        optimizer.step()\n",
    "        \n",
    "        epoch_loss += loss.item()\n",
    "        epoch_acc += acc.item()\n",
    "        epoch_prec += prec.item()\n",
    "        epoch_recall += recall.item()\n",
    "        epoch_f1 += f1.item()\n",
    "\n",
    "    return epoch_loss / batches, epoch_acc / batches, epoch_prec / batches, epoch_recall / batches, epoch_f1 / batches"
   ]
  },
  {
   "cell_type": "code",
   "execution_count": 15,
   "id": "45a47ab1-5f00-478d-a20e-8b2004bcf503",
   "metadata": {},
   "outputs": [],
   "source": [
    "def evaluate(model, test_dataloader, criterion):\n",
    "    epoch_loss = 0\n",
    "    epoch_acc = 0\n",
    "    epoch_prec = 0\n",
    "    epoch_recall = 0\n",
    "    epoch_f1 = 0\n",
    "    batches = len(test_dataloader)\n",
    "    \n",
    "    model.eval()\n",
    "    \n",
    "    with torch.no_grad():\n",
    "    \n",
    "        for _, batch in enumerate(test_dataloader):\n",
    "            x, y = batch\n",
    "\n",
    "            predictions = model(x)\n",
    "            \n",
    "            loss = criterion(predictions, y)\n",
    "            \n",
    "            predictions = torch.argmax(torch.softmax(predictions, 0), dim=1)\n",
    "            acc = torchmetrics.functional.accuracy(predictions, y)\n",
    "            prec, recall = torchmetrics.functional.precision_recall(predictions, y, num_classes=3, average='macro')\n",
    "            f1 = torchmetrics.functional.f1(predictions, y, num_classes=3, average='macro')\n",
    "\n",
    "            epoch_loss += loss.item()\n",
    "            epoch_acc += acc.item()\n",
    "            epoch_prec += prec.item()\n",
    "            epoch_recall += recall.item()\n",
    "            epoch_f1 += f1.item()\n",
    "        \n",
    "    return epoch_loss / batches, epoch_acc / batches, epoch_prec / batches, epoch_recall / batches, epoch_f1 / batches"
   ]
  },
  {
   "cell_type": "markdown",
   "id": "48dfe7e4-cac6-4dc2-bf9d-1b130c42149e",
   "metadata": {},
   "source": [
    "### Training Model Without DRCA"
   ]
  },
  {
   "cell_type": "code",
   "execution_count": 16,
   "id": "9c61416d-8348-4afa-bff6-169d20ff6d8f",
   "metadata": {},
   "outputs": [],
   "source": [
    "import time\n",
    "\n",
    "def epoch_time(start_time, end_time):\n",
    "    elapsed_time = end_time - start_time\n",
    "    elapsed_mins = int(elapsed_time / 60)\n",
    "    elapsed_secs = int(elapsed_time - (elapsed_mins * 60))\n",
    "    return elapsed_mins, elapsed_secs"
   ]
  },
  {
   "cell_type": "code",
   "execution_count": 17,
   "id": "62490699-b9bf-4e87-96bc-0f89a6390fa1",
   "metadata": {
    "scrolled": true,
    "tags": []
   },
   "outputs": [
    {
     "name": "stderr",
     "output_type": "stream",
     "text": [
      "/opt/conda/lib/python3.7/site-packages/torch/nn/functional.py:652: UserWarning: Named tensors and all their associated APIs are an experimental feature and subject to change. Please do not use them for anything important until they are released as stable. (Triggered internally at  /opt/conda/conda-bld/pytorch_1623448265233/work/c10/core/TensorImpl.h:1156.)\n",
      "  return torch.max_pool1d(input, kernel_size, stride, padding, dilation, ceil_mode)\n"
     ]
    },
    {
     "name": "stdout",
     "output_type": "stream",
     "text": [
      "Epoch: 01 | Epoch Time: 0m 1s\n",
      "\tTrain Loss: 1.158 | Train Acc: 53.39%\n",
      "\t Val. Loss: 1.463 |  Val. Acc: 66.67%\n",
      "Epoch: 02 | Epoch Time: 0m 1s\n",
      "\tTrain Loss: 0.958 | Train Acc: 67.24%\n",
      "\t Val. Loss: 0.755 |  Val. Acc: 59.72%\n",
      "Epoch: 03 | Epoch Time: 0m 0s\n",
      "\tTrain Loss: 0.563 | Train Acc: 65.52%\n",
      "\t Val. Loss: 0.716 |  Val. Acc: 48.61%\n",
      "Epoch: 04 | Epoch Time: 0m 0s\n",
      "\tTrain Loss: 0.449 | Train Acc: 54.90%\n",
      "\t Val. Loss: 0.729 |  Val. Acc: 41.67%\n",
      "Epoch: 05 | Epoch Time: 0m 0s\n",
      "\tTrain Loss: 0.394 | Train Acc: 51.09%\n",
      "\t Val. Loss: 0.690 |  Val. Acc: 38.89%\n",
      "Epoch: 06 | Epoch Time: 0m 0s\n",
      "\tTrain Loss: 0.359 | Train Acc: 48.18%\n",
      "\t Val. Loss: 0.646 |  Val. Acc: 38.89%\n",
      "Epoch: 07 | Epoch Time: 0m 0s\n",
      "\tTrain Loss: 0.328 | Train Acc: 48.44%\n",
      "\t Val. Loss: 0.735 |  Val. Acc: 38.89%\n",
      "Epoch: 08 | Epoch Time: 0m 1s\n",
      "\tTrain Loss: 0.299 | Train Acc: 45.78%\n",
      "\t Val. Loss: 0.568 |  Val. Acc: 37.50%\n",
      "Epoch: 09 | Epoch Time: 0m 0s\n",
      "\tTrain Loss: 0.288 | Train Acc: 47.24%\n",
      "\t Val. Loss: 0.668 |  Val. Acc: 38.89%\n",
      "Epoch: 10 | Epoch Time: 0m 0s\n",
      "\tTrain Loss: 0.248 | Train Acc: 51.15%\n",
      "\t Val. Loss: 0.677 |  Val. Acc: 40.28%\n",
      "Epoch: 11 | Epoch Time: 0m 0s\n",
      "\tTrain Loss: 0.239 | Train Acc: 48.18%\n",
      "\t Val. Loss: 0.582 |  Val. Acc: 38.89%\n",
      "Epoch: 12 | Epoch Time: 0m 0s\n",
      "\tTrain Loss: 0.212 | Train Acc: 44.64%\n",
      "\t Val. Loss: 0.565 |  Val. Acc: 38.89%\n",
      "Epoch: 13 | Epoch Time: 0m 0s\n",
      "\tTrain Loss: 0.204 | Train Acc: 52.19%\n",
      "\t Val. Loss: 0.572 |  Val. Acc: 43.06%\n",
      "Epoch: 14 | Epoch Time: 0m 0s\n",
      "\tTrain Loss: 0.181 | Train Acc: 57.66%\n",
      "\t Val. Loss: 0.436 |  Val. Acc: 47.22%\n",
      "Epoch: 15 | Epoch Time: 0m 0s\n",
      "\tTrain Loss: 0.170 | Train Acc: 54.17%\n",
      "\t Val. Loss: 0.404 |  Val. Acc: 50.00%\n",
      "Epoch: 16 | Epoch Time: 0m 1s\n",
      "\tTrain Loss: 0.162 | Train Acc: 60.83%\n",
      "\t Val. Loss: 0.436 |  Val. Acc: 51.39%\n",
      "Epoch: 17 | Epoch Time: 0m 0s\n",
      "\tTrain Loss: 0.148 | Train Acc: 66.04%\n",
      "\t Val. Loss: 0.359 |  Val. Acc: 52.78%\n",
      "Epoch: 18 | Epoch Time: 0m 0s\n",
      "\tTrain Loss: 0.137 | Train Acc: 63.23%\n",
      "\t Val. Loss: 0.377 |  Val. Acc: 55.56%\n",
      "Epoch: 19 | Epoch Time: 0m 0s\n",
      "\tTrain Loss: 0.128 | Train Acc: 63.02%\n",
      "\t Val. Loss: 0.401 |  Val. Acc: 58.33%\n",
      "Epoch: 20 | Epoch Time: 0m 0s\n",
      "\tTrain Loss: 0.148 | Train Acc: 63.02%\n",
      "\t Val. Loss: 0.397 |  Val. Acc: 59.72%\n",
      "Epoch: 21 | Epoch Time: 0m 1s\n",
      "\tTrain Loss: 0.141 | Train Acc: 65.16%\n",
      "\t Val. Loss: 0.340 |  Val. Acc: 58.33%\n",
      "Epoch: 22 | Epoch Time: 0m 0s\n",
      "\tTrain Loss: 0.137 | Train Acc: 68.80%\n",
      "\t Val. Loss: 0.338 |  Val. Acc: 59.72%\n",
      "Epoch: 23 | Epoch Time: 0m 0s\n",
      "\tTrain Loss: 0.117 | Train Acc: 66.15%\n",
      "\t Val. Loss: 0.345 |  Val. Acc: 59.72%\n",
      "Epoch: 24 | Epoch Time: 0m 0s\n",
      "\tTrain Loss: 0.120 | Train Acc: 67.03%\n",
      "\t Val. Loss: 0.311 |  Val. Acc: 56.94%\n",
      "Epoch: 25 | Epoch Time: 0m 0s\n",
      "\tTrain Loss: 0.093 | Train Acc: 64.79%\n",
      "\t Val. Loss: 0.436 |  Val. Acc: 56.94%\n",
      "Epoch: 26 | Epoch Time: 0m 0s\n",
      "\tTrain Loss: 0.137 | Train Acc: 69.43%\n",
      "\t Val. Loss: 0.297 |  Val. Acc: 59.72%\n",
      "Epoch: 27 | Epoch Time: 0m 1s\n",
      "\tTrain Loss: 0.128 | Train Acc: 60.00%\n",
      "\t Val. Loss: 0.571 |  Val. Acc: 59.72%\n",
      "Epoch: 28 | Epoch Time: 0m 0s\n",
      "\tTrain Loss: 0.235 | Train Acc: 60.05%\n",
      "\t Val. Loss: 0.475 |  Val. Acc: 56.94%\n",
      "Epoch: 29 | Epoch Time: 0m 0s\n",
      "\tTrain Loss: 0.119 | Train Acc: 67.34%\n",
      "\t Val. Loss: 0.392 |  Val. Acc: 55.56%\n",
      "Epoch: 30 | Epoch Time: 0m 0s\n",
      "\tTrain Loss: 0.126 | Train Acc: 63.96%\n",
      "\t Val. Loss: 0.325 |  Val. Acc: 58.33%\n",
      "Epoch: 31 | Epoch Time: 0m 0s\n",
      "\tTrain Loss: 0.139 | Train Acc: 65.10%\n",
      "\t Val. Loss: 0.288 |  Val. Acc: 58.33%\n",
      "Epoch: 32 | Epoch Time: 0m 0s\n",
      "\tTrain Loss: 0.112 | Train Acc: 62.45%\n",
      "\t Val. Loss: 0.279 |  Val. Acc: 55.56%\n",
      "Epoch: 33 | Epoch Time: 0m 0s\n",
      "\tTrain Loss: 0.158 | Train Acc: 65.47%\n",
      "\t Val. Loss: 0.271 |  Val. Acc: 58.33%\n",
      "Epoch: 34 | Epoch Time: 0m 0s\n",
      "\tTrain Loss: 0.108 | Train Acc: 67.03%\n",
      "\t Val. Loss: 0.315 |  Val. Acc: 56.94%\n",
      "Epoch: 35 | Epoch Time: 0m 0s\n",
      "\tTrain Loss: 0.085 | Train Acc: 63.54%\n",
      "\t Val. Loss: 0.281 |  Val. Acc: 58.33%\n",
      "Epoch: 36 | Epoch Time: 0m 0s\n",
      "\tTrain Loss: 0.084 | Train Acc: 63.75%\n",
      "\t Val. Loss: 0.328 |  Val. Acc: 54.17%\n",
      "Epoch: 37 | Epoch Time: 0m 0s\n",
      "\tTrain Loss: 0.081 | Train Acc: 68.02%\n",
      "\t Val. Loss: 0.267 |  Val. Acc: 54.17%\n",
      "Epoch: 38 | Epoch Time: 0m 0s\n",
      "\tTrain Loss: 0.097 | Train Acc: 65.78%\n",
      "\t Val. Loss: 0.268 |  Val. Acc: 55.56%\n",
      "Epoch: 39 | Epoch Time: 0m 0s\n",
      "\tTrain Loss: 0.085 | Train Acc: 65.78%\n",
      "\t Val. Loss: 0.240 |  Val. Acc: 54.17%\n",
      "Epoch: 40 | Epoch Time: 0m 1s\n",
      "\tTrain Loss: 0.079 | Train Acc: 62.19%\n",
      "\t Val. Loss: 0.240 |  Val. Acc: 54.17%\n"
     ]
    }
   ],
   "source": [
    "N_EPOCHS = 40\n",
    "\n",
    "train_loss = np.zeros(N_EPOCHS)\n",
    "train_acc = np.zeros(N_EPOCHS)\n",
    "train_prec = np.zeros(N_EPOCHS)\n",
    "train_recall = np.zeros(N_EPOCHS)\n",
    "train_f1 = np.zeros(N_EPOCHS)\n",
    "\n",
    "valid_loss = np.zeros(N_EPOCHS)\n",
    "valid_acc = np.zeros(N_EPOCHS)\n",
    "valid_prec = np.zeros(N_EPOCHS)\n",
    "valid_recall = np.zeros(N_EPOCHS)\n",
    "valid_f1 = np.zeros(N_EPOCHS)\n",
    "\n",
    "\n",
    "best_valid_loss = float('inf')\n",
    "\n",
    "for i in range(N_EPOCHS):\n",
    "\n",
    "    start_time = time.time()\n",
    "    \n",
    "    train_loss[i], train_acc[i], train_prec[i], train_recall[i], train_f1[i] = train(model, train_dataloader, optimizer, criterion)\n",
    "    valid_loss[i], valid_acc[i], valid_prec[i], valid_recall[i], valid_f1[i] = evaluate(model, valid_dataloader, criterion)\n",
    "    \n",
    "    end_time = time.time()\n",
    "\n",
    "    epoch_mins, epoch_secs = epoch_time(start_time, end_time)\n",
    "    \n",
    "    if valid_loss[i] < best_valid_loss:\n",
    "        best_valid_loss = valid_loss[i]\n",
    "        torch.save(model.state_dict(), 'cnn-downsample.pt')\n",
    "    \n",
    "    print(f'Epoch: {i+1:02} | Epoch Time: {epoch_mins}m {epoch_secs}s')\n",
    "    print(f'\\tTrain Loss: {train_loss[i]:.3f} | Train Acc: {train_acc[i]*100:.2f}%')\n",
    "    print(f'\\t Val. Loss: {valid_loss[i]:.3f} |  Val. Acc: {valid_acc[i]*100:.2f}%')"
   ]
  },
  {
   "cell_type": "markdown",
   "id": "5c9bd4af-dfc3-4f86-ba38-58ad4e67b50f",
   "metadata": {},
   "source": [
    "## Analysis"
   ]
  },
  {
   "cell_type": "code",
   "execution_count": 26,
   "id": "40db3a81-edfd-4dca-8086-070ebe6a6cab",
   "metadata": {},
   "outputs": [],
   "source": [
    "from sklearn.metrics import confusion_matrix\n",
    "from matplotlib import pyplot as plt\n",
    "\n",
    "def predict(model, x):\n",
    "    x = torch.from_numpy(x).to(device)\n",
    "    with torch.no_grad():\n",
    "        return torch.argmax(torch.softmax(model(x), 0), dim=1).cpu().detach().numpy()\n",
    "\n",
    "def confusion_matrix_plot(y_pred, y_true):\n",
    "    cm = confusion_matrix(y_pred, y_true, normalize='true')\n",
    "    normalize = True\n",
    "    cmap = 'RdPu'\n",
    "    classes = [0, 1, 2]\n",
    "    title = 'cofusion matrix'\n",
    "    fig, ax = plt.subplots()\n",
    "    im = ax.imshow(cm, interpolation='nearest', cmap=cmap)\n",
    "    ax.figure.colorbar(im, ax = ax)\n",
    "    ax.set(xticks = np.arange(cm.shape[1]), yticks = np.arange(cm.shape[0]), xticklabels = classes, yticklabels = classes, ylabel = 'True label', xlabel = 'Predicted label', title = title)\n",
    "    plt.setp(ax.get_xticklabels(), rotation=45, ha = 'right', rotation_mode = 'anchor')\n",
    "    fmt = '.2f' if normalize else 'd'\n",
    "    thresh = cm.max() / 2\n",
    "    for i in range(cm.shape[0]):\n",
    "        for j in range(cm.shape[1]):\n",
    "            ax.text(j, i, format(cm[i, j], fmt), ha = 'center', va = 'center', color = 'white' if cm[i,j] > thresh else 'black')\n",
    "            fig.tight_layout()\n",
    "\n",
    "def metric_epoch(train_loss, valid_loss, train_f1, valid_f1):\n",
    "    x = range(0, len(train_loss))\n",
    "    plt.figure(figsize=(14,3))\n",
    "    grid = plt.GridSpec(3, 2, wspace=0.5, hspace=0.5)\n",
    "    plt.subplot(grid[:,0])\n",
    "    plt.plot(x, train_f1, color=\"r\", marker='o',markersize='1.5',markeredgecolor='r',markeredgewidth = 1.5, label = 'Train F1 score')\n",
    "    plt.plot(x, valid_f1, color=\"b\", marker='o',markersize='1.5',markeredgecolor='b',markeredgewidth = 1.5, label = 'Valid F1 score')\n",
    "    plt.legend()\n",
    "    plt.title('F1 score vs epoches')\n",
    "    plt.xlabel('epoches')\n",
    "    plt.ylabel('F1 score')\n",
    "    plt.subplot(grid[:,1])\n",
    "    plt.plot(x, train_loss, color=\"red\", marker='o',markersize='1.5',markeredgecolor='r',markeredgewidth = 1.5, label = 'Train Loss')\n",
    "    plt.plot(x, valid_loss, color=\"blue\", marker='o',markersize='1.5',markeredgecolor='b',markeredgewidth = 1.5, label = 'Valid Loss')\n",
    "    plt.legend()\n",
    "    plt.title('Loss vs epoches')\n",
    "    plt.xlabel('epoches')\n",
    "    plt.ylabel('Loss')\n",
    "    plt.show()"
   ]
  },
  {
   "cell_type": "code",
   "execution_count": 27,
   "id": "2aa95ac7-164b-405d-905d-2d5531b8da82",
   "metadata": {},
   "outputs": [
    {
     "data": {
      "image/png": "[encoded data removed]",
      "text/plain": [
       "<Figure size 1008x216 with 2 Axes>"
      ]
     },
     "metadata": {
      "needs_background": "light"
     },
     "output_type": "display_data"
    }
   ],
   "source": [
    "metric_epoch(train_loss, valid_loss, train_f1, valid_f1)"
   ]
  },
  {
   "cell_type": "markdown",
   "id": "4f286986-4a8b-401c-8b3e-16c001dee9a5",
   "metadata": {},
   "source": [
    "### Test Set"
   ]
  },
  {
   "cell_type": "code",
   "execution_count": 20,
   "id": "1376c4c7-2f3d-4724-b06a-aea33fd10c8d",
   "metadata": {},
   "outputs": [
    {
     "name": "stdout",
     "output_type": "stream",
     "text": [
      "Test Loss: 0.259 | Test Acc: 73.61% | Test Prec: 82.24% | Test Recall: 67.71% | Test F1: 63.11%\n"
     ]
    }
   ],
   "source": [
    "model.load_state_dict(torch.load('cnn-downsample.pt'))\n",
    "\n",
    "test_loss, test_acc, test_prec, test_recall, test_f1 = evaluate(model, test_dataloader, criterion)\n",
    "print(f'Test Loss: {test_loss:.3f} | Test Acc: {test_acc*100:.2f}% | Test Prec: {test_prec*100:.2f}% | Test Recall: {test_recall*100:.2f}% | Test F1: {test_f1*100:.2f}%')"
   ]
  },
  {
   "cell_type": "code",
   "execution_count": 21,
   "id": "4a1ecffa-894a-4ff5-8676-a51f8a52a9c8",
   "metadata": {},
   "outputs": [
    {
     "data": {
      "image/png": "[encoded data removed]",
      "text/plain": [
       "<Figure size 432x288 with 2 Axes>"
      ]
     },
     "metadata": {
      "needs_background": "light"
     },
     "output_type": "display_data"
    }
   ],
   "source": [
    "confusion_matrix_plot(predict(model, x_test), y_test)"
   ]
  },
  {
   "cell_type": "markdown",
   "id": "72732274-7037-4669-aafa-f3219ab9a609",
   "metadata": {},
   "source": [
    "### Target Set"
   ]
  },
  {
   "cell_type": "code",
   "execution_count": 22,
   "id": "d6aeacfa-309b-4f26-b88d-94df678927e8",
   "metadata": {},
   "outputs": [
    {
     "name": "stdout",
     "output_type": "stream",
     "text": [
      "Test Loss: 30.502 | Test Acc: 20.42% | Test Prec: 31.31% | Test Recall: 12.70% | Test F1: 16.77%\n"
     ]
    }
   ],
   "source": [
    "model.load_state_dict(torch.load('cnn-downsample.pt'))\n",
    "\n",
    "test_loss, test_acc, test_prec, test_recall, test_f1 = evaluate(model, target_dataloader, criterion)\n",
    "print(f'Test Loss: {test_loss:.3f} | Test Acc: {test_acc*100:.2f}% | Test Prec: {test_prec*100:.2f}% | Test Recall: {test_recall*100:.2f}% | Test F1: {test_f1*100:.2f}%')"
   ]
  },
  {
   "cell_type": "code",
   "execution_count": 23,
   "id": "d3ec27c5-8dfc-4d85-9560-f3f2ac76f268",
   "metadata": {},
   "outputs": [
    {
     "data": {
      "image/png": "[encoded data removed]",
      "text/plain": [
       "<Figure size 432x288 with 2 Axes>"
      ]
     },
     "metadata": {
      "needs_background": "light"
     },
     "output_type": "display_data"
    }
   ],
   "source": [
    "confusion_matrix_plot(predict(model, target_dataset_raw), y_target)"
   ]
  },
  {
   "cell_type": "markdown",
   "id": "67dbaaa2-ad44-4f39-ab45-32a06e13c7f5",
   "metadata": {},
   "source": [
    "### Training Model With DRCA"
   ]
  },
  {
   "cell_type": "code",
   "execution_count": 24,
   "id": "87d1a561-51ae-44d9-a95a-6b3266b7151f",
   "metadata": {},
   "outputs": [],
   "source": [
    "# N_EPOCHS = 30\n",
    "\n",
    "# best_valid_loss = float('inf')\n",
    "\n",
    "# for epoch in range(N_EPOCHS):\n",
    "\n",
    "#     start_time = time.time()\n",
    "    \n",
    "#     train_loss, train_acc = train(model_drca, train_dataloader_drca, optimizer_drca, criterion)\n",
    "#     valid_loss, valid_acc = evaluate(model_drca, valid_dataloader_drca, criterion)\n",
    "    \n",
    "#     end_time = time.time()\n",
    "\n",
    "#     epoch_mins, epoch_secs = epoch_time(start_time, end_time)\n",
    "    \n",
    "#     if valid_loss < best_valid_loss:\n",
    "#         best_valid_loss = valid_loss\n",
    "#         torch.save(model_drca.state_dict(), 'cnn-drca.pt')\n",
    "    \n",
    "#     print(f'Epoch: {epoch+1:02} | Epoch Time: {epoch_mins}m {epoch_secs}s')\n",
    "#     print(f'\\tTrain Loss: {train_loss:.3f} | Train Acc: {train_acc*100:.2f}%')\n",
    "#     print(f'\\t Val. Loss: {valid_loss:.3f} |  Val. Acc: {valid_acc*100:.2f}%')"
   ]
  },
  {
   "cell_type": "code",
   "execution_count": 25,
   "id": "a6779487-b963-4ce1-8fc3-3925bb1d8690",
   "metadata": {},
   "outputs": [],
   "source": [
    "# model_drca.load_state_dict(torch.load('cnn-drca.pt'))\n",
    "\n",
    "# test_loss, test_acc = evaluate(model_drca, test_dataloader_drca, criterion)\n",
    "# print(f'Test Loss: {test_loss:.3f} | Test Acc: {test_acc*100:.2f}%')"
   ]
  },
  {
   "cell_type": "code",
   "execution_count": null,
   "id": "b01b8ddf-290c-4804-8d78-69b89c8a467d",
   "metadata": {},
   "outputs": [],
   "source": []
  }
 ],
 "metadata": {
  "environment": {
   "kernel": "python3",
   "name": "pytorch-gpu.1-9.m82",
   "type": "gcloud",
   "uri": "gcr.io/deeplearning-platform-release/pytorch-gpu.1-9:m82"
  },
  "kernelspec": {
   "display_name": "Python 3",
   "language": "python",
   "name": "python3"
  },
  "language_info": {
   "codemirror_mode": {
    "name": "ipython",
    "version": 3
   },
   "file_extension": ".py",
   "mimetype": "text/x-python",
   "name": "python",
   "nbconvert_exporter": "python",
   "pygments_lexer": "ipython3",
   "version": "3.7.10"
  }
 },
 "nbformat": 4,
 "nbformat_minor": 5
}
