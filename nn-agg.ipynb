{
 "cells": [
  {
   "cell_type": "code",
   "execution_count": 1,
   "id": "f4c7abce-5681-443a-82d7-8ac14d4d530a",
   "metadata": {},
   "outputs": [],
   "source": [
    "import torch\n",
    "import numpy as np\n",
    "import torch.nn as nn\n",
    "import torch.optim as optim\n",
    "from torch.utils.data import Dataset, DataLoader\n",
    "import torchmetrics\n",
    "from scipy.io import loadmat\n",
    "from sklearn.model_selection import train_test_split\n",
    "\n",
    "device = torch.device('cuda' if torch.cuda.is_available() else 'cpu')"
   ]
  },
  {
   "cell_type": "code",
   "execution_count": 2,
   "id": "f9eb269e-9c6b-49c8-8e57-98ed028e846a",
   "metadata": {},
   "outputs": [],
   "source": [
    "# Input\n",
    "source_dataset_mat=loadmat('Source_BZ_DG_GG.mat')\n",
    "source_dataset_raw=np.vstack((source_dataset_mat['BZ'],source_dataset_mat['DG'],source_dataset_mat['GG']))\n",
    "target_dataset_mat=loadmat('Target_BZ_DG_GG.mat')\n",
    "target_dataset_raw=np.vstack((target_dataset_mat['BZ'],target_dataset_mat['DG'],target_dataset_mat['GG']))"
   ]
  },
  {
   "cell_type": "code",
   "execution_count": 3,
   "id": "6b6d5b7b-78f2-4b97-b790-d22e848a07cc",
   "metadata": {},
   "outputs": [],
   "source": [
    "# Labels\n",
    "y_source=np.hstack((0*np.ones(160),1*np.ones(160),2*np.ones(160))).astype(np.int64)\n",
    "y_target=np.hstack((0*np.ones(50),1*np.ones(50),2*np.ones(50))).astype(np.int64)"
   ]
  },
  {
   "cell_type": "code",
   "execution_count": 4,
   "id": "b4724247-95d0-440c-a203-59f1bf661bac",
   "metadata": {},
   "outputs": [
    {
     "name": "stdout",
     "output_type": "stream",
     "text": [
      "(480, 128)\n",
      "(150, 128)\n",
      "(480,)\n",
      "(150,)\n"
     ]
    }
   ],
   "source": [
    "print(source_dataset_raw.shape)\n",
    "print(target_dataset_raw.shape)\n",
    "print(y_source.shape)\n",
    "print(y_target.shape)"
   ]
  },
  {
   "cell_type": "markdown",
   "id": "332253c4-dc5f-4dd1-a0ae-8ed11398e7c4",
   "metadata": {},
   "source": [
    "### DRCA"
   ]
  },
  {
   "cell_type": "code",
   "execution_count": 5,
   "id": "840ee918-800a-40be-99fc-0735186c99b1",
   "metadata": {},
   "outputs": [],
   "source": [
    "class DRCA():\n",
    "    '''\n",
    "    The DRCA Class\n",
    "    '''\n",
    "    def __init__(self, n_components = 2,alpha = None, mode = 'raw'):\n",
    "        '''\n",
    "        The function to initialize the DRCA class\n",
    "        :param n_components: The intended dimensionality of projection hyperplane smaller than the initial dimensionality\n",
    "        :param alpha: weighting factor for target domain data within class scatter\n",
    "        :param mode: the mode of DRCA:\n",
    "            'raw': consider source domain data (S) and target domain data (T) as two groups\n",
    "            'number': consider type-specific source domain data and target domain data based on the average number of cases in S and T\n",
    "            'mean': equal weights for each class\n",
    "        '''\n",
    "        self.mode = mode\n",
    "        self.Sw_s = None\n",
    "        self.Sw_t = None\n",
    "        self.mu_s = None\n",
    "        self.mu_t = None\n",
    "        self.alpha = alpha\n",
    "        self.D_tilde = n_components\n",
    "    pass\n",
    "\n",
    "    def fit(self, Xs, Xt, Ys=None, Yt = None):\n",
    "        '''\n",
    "        This function fit the DRCA model with the data and labels given by users\n",
    "        :param Xs: the feature matrix of shape (Ns, D) in source domain, np.array\n",
    "        :param Xt: the feature matrix of shape (Nt, D) in target domain, np.array\n",
    "        :param Ys: the label of the data of shape (Ns,) in source domain, np.array, int\n",
    "        :param Yt: the label of the data of shape (Nt,) in target domain, np.array, int\n",
    "        '''\n",
    "        ### --- Summarize statistics --- ###\n",
    "        if self.mode != 'raw':\n",
    "            Ys = Ys.reshape(-1,) #we need to use Y and make sure the Y is the intended form\n",
    "            Yt = Yt.reshape(-1,)\n",
    "        Ns = Xs.shape[0]\n",
    "        Nt = Xt.shape[0]\n",
    "        D = Xs.shape[1]\n",
    "        \n",
    "        ### --- Within-domain scatter --- ###\n",
    "        self.mu_s = np.mean(Xs,axis=0,keepdims=True) #1*D\n",
    "        self.mu_t = np.mean(Xt,axis=0,keepdims=True)\n",
    "        self.Sw_s = (Xs - self.mu_s).T @ (Xs - self.mu_s) #D*D\n",
    "        self.Sw_t = (Xt - self.mu_t).T @ (Xt - self.mu_t) #D*D\n",
    "        if self.alpha == None:\n",
    "            self.alpha = Ns/Nt\n",
    "        self.nominator = self.Sw_s + self.Sw_t * self.alpha\n",
    "        \n",
    "        ### --- Eliminate sensor drifts --- ###\n",
    "        if self.mode == 'raw': #S and T as two entities\n",
    "            self.denominator = (self.mu_s - self.mu_t).T @ (self.mu_s-self.mu_t) #D*D\n",
    "        elif self.mode == 'number': #Focus on the same classes appeared in target domain\n",
    "            Kt = np.unique(Yt).shape[0] #Assume that the target domain classes are fewer \n",
    "            self.denominator = np.empty((D,D))\n",
    "            for i in range(Kt):\n",
    "                Ns = np.mean(Ys==Kt[i])\n",
    "                Nt = np.mean(Yt==Kt[i])\n",
    "                N = 0.5*(self.Ns+self.Nt)#self. ???????????????????\n",
    "                mu_s_matrix = np.mean(Xs[Ys==Kt[i],:],axis=0,keepdims=True)\n",
    "                mu_t_matrix = np.mean(Xt[Yt==Kt[i],:],axis=0,keepdims=True)\n",
    "                Sb_matrix = (self.mu_s_matrix-self.mu_t_matrix).T @ (self.mu_s_matrix-self.mu_t_matrix)\n",
    "                self.denomiator += N * Sb_matrix\n",
    "        elif self.mode == 'mean': #Equal weights for every class\n",
    "            Kt = np.unique(Yt).shape[0] #Assume that the target domain classes are fewer \n",
    "            self.denominator = np.empty((D,D))\n",
    "            for i in range(Kt):\n",
    "                mu_s_matrix = np.mean(Xs[Ys==Kt[i],:],axis=0,keepdims=True)#1*D\n",
    "                mu_t_matrix = np.mean(Xt[Yt==Kt[i],:],axis=0,keepdims=True)#1*D\n",
    "                Sb_matrix = (self.mu_s_matrix-self.mu_t_matrix).T @ (self.mu_s_matrix-self.mu_t_matrix)\n",
    "                self.denomiator += Sb_matrix#D*D\n",
    "        \n",
    "        \n",
    "        eigenValues, eigenVectors = np.linalg.eig(np.linalg.pinv(self.denominator) @ self.nominator) #D*D\n",
    "\n",
    "        idx = np.abs(eigenValues).argsort()[::-1]  \n",
    "        self.eigenValues = eigenValues[idx]\n",
    "        self.eigenVectors = eigenVectors[:,idx]\n",
    "        self.W = self.eigenVectors[:,0:self.D_tilde]#shape=(D,D_tilde)\n",
    "    pass    \n",
    "        \n",
    "    def transform(self, X):\n",
    "        '''\n",
    "        This function use the fitted SRLDA model\n",
    "        :param X: the data in np.array of shape (N,D) that needs to be projected to the lower dimension\n",
    "        :return: X_tilde: the projected data in the lower dimensional space in np.array of shape (N, D_tilde)\n",
    "        '''\n",
    "        return np.matmul(X,self.W)   #goal:  (N,D_tilde)      (D_tilde*D)@(D*N).T     (N*D)(D*D_tilde)\n",
    "    pass\n",
    "    \n",
    "    def fit_transform(self, Xs, Xt, Ys=None, Yt = None):\n",
    "        '''\n",
    "        :param Xs: the feature matrix of shape (Ns, D) in source domain, np.array\n",
    "        :param Xt: the feature matrix of shape (Nt, D) in target domain, np.array\n",
    "        :param Ys: the label of the data of shape (Ns,) in source domain, np.array, int\n",
    "        :param Yt: the label of the data of shape (Nt,) in target domain, np.array, int '''\n",
    "                                                  \n",
    "        self.fit(Xs, Xt, Ys, Yt)\n",
    "        return np.real(self.transform(Xs)),np.real(self.transform(Xt)) #N * D_tilde\n",
    "    pass"
   ]
  },
  {
   "cell_type": "markdown",
   "id": "c170f7d0-03de-4a79-9d0d-163f2db01125",
   "metadata": {},
   "source": [
    "### Spilt Dataset"
   ]
  },
  {
   "cell_type": "code",
   "execution_count": 6,
   "id": "82874173-831e-43e2-8003-49d4f390ddba",
   "metadata": {},
   "outputs": [],
   "source": [
    "class HerbalData(Dataset):\n",
    "    def __init__(self, x_train, y_train):\n",
    "        assert len(x_train) == len(y_train)\n",
    "        self.x = x_train\n",
    "        self.y = y_train\n",
    "    \n",
    "    def __len__(self):\n",
    "        return self.x.shape[0]\n",
    "    \n",
    "    def __getitem__(self, idx):\n",
    "        return self.x[idx], self.y[idx]"
   ]
  },
  {
   "cell_type": "code",
   "execution_count": 7,
   "id": "76e6b908-e41d-4e0d-9b02-b6653f6cd363",
   "metadata": {},
   "outputs": [
    {
     "name": "stdout",
     "output_type": "stream",
     "text": [
      "Train Set: (336, 128)\n",
      "Valid Set: (72, 128)\n",
      "Test Set: (72, 128)\n",
      "Target Set: (150, 128)\n"
     ]
    }
   ],
   "source": [
    "# Without DRCA\n",
    "x_train, x_valid, y_train, y_valid = train_test_split(source_dataset_raw, y_source, train_size=0.7, random_state=1)\n",
    "x_valid, x_test, y_valid, y_test = train_test_split(x_valid, y_valid, train_size=0.5, random_state=1)\n",
    "train_set = HerbalData(torch.from_numpy(x_train).to(device), torch.from_numpy(y_train).to(device))\n",
    "valid_set = HerbalData(torch.from_numpy(x_valid).to(device), torch.from_numpy(y_valid).to(device))\n",
    "test_set = HerbalData(torch.from_numpy(x_test).to(device), torch.from_numpy(y_test).to(device))\n",
    "target_set = HerbalData(torch.from_numpy(target_dataset_raw).to(device), torch.from_numpy(y_target).to(device))\n",
    "\n",
    "train_dataloader = DataLoader(train_set, batch_size=128, shuffle=True)\n",
    "valid_dataloader = DataLoader(valid_set, batch_size=128, shuffle=True)\n",
    "test_dataloader = DataLoader(test_set, batch_size=128)\n",
    "target_dataloader = DataLoader(target_set, batch_size=128)\n",
    "\n",
    "print(\"Train Set:\", x_train.shape)\n",
    "print(\"Valid Set:\", x_valid.shape)\n",
    "print(\"Test Set:\", x_test.shape)\n",
    "print(\"Target Set:\", target_dataset_raw.shape)"
   ]
  },
  {
   "cell_type": "code",
   "execution_count": 8,
   "id": "004f6569-f589-45b4-862c-ca14dfdddc3e",
   "metadata": {},
   "outputs": [
    {
     "name": "stdout",
     "output_type": "stream",
     "text": [
      "Train Set: (336, 50)\n",
      "Valid Set: (72, 50)\n",
      "Test Set: (72, 50)\n",
      "Target Set: (150, 50)\n"
     ]
    }
   ],
   "source": [
    "# With DRCA\n",
    "drca=DRCA(n_components=50, alpha=10)#n_components and alpha value are hyperparameters\n",
    "source_dataset_drca, target_dataset_drca = drca.fit_transform(source_dataset_raw,target_dataset_raw)\n",
    "\n",
    "x_train_drca, x_valid_drca, y_train_drca, y_valid_drca = train_test_split(source_dataset_drca, y_source, train_size=0.7, random_state=1)\n",
    "x_valid_drca, x_test_drca, y_valid_drca, y_test_drca = train_test_split(x_valid_drca, y_valid_drca, train_size=0.5, random_state=1)\n",
    "train_set_drca = HerbalData(torch.from_numpy(x_train_drca).to(device), torch.from_numpy(y_train_drca).to(device))\n",
    "valid_set_drca = HerbalData(torch.from_numpy(x_valid_drca).to(device), torch.from_numpy(y_valid_drca).to(device))\n",
    "test_set_drca = HerbalData(torch.from_numpy(x_test_drca).to(device), torch.from_numpy(y_test_drca).to(device))\n",
    "target_set_drca = HerbalData(torch.from_numpy(target_dataset_drca).to(device), torch.from_numpy(y_target).to(device))\n",
    "\n",
    "train_dataloader_drca = DataLoader(train_set_drca, batch_size=128, shuffle=True)\n",
    "valid_dataloader_drca = DataLoader(valid_set_drca, batch_size=128, shuffle=True)\n",
    "test_dataloader_drca = DataLoader(test_set_drca, batch_size=128)\n",
    "target_dataloader_drca = DataLoader(target_set_drca, batch_size=128)\n",
    "print(\"Train Set:\", x_train_drca.shape)\n",
    "print(\"Valid Set:\", x_valid_drca.shape)\n",
    "print(\"Test Set:\", x_test_drca.shape)\n",
    "print(\"Target Set:\", target_dataset_drca.shape)"
   ]
  },
  {
   "cell_type": "markdown",
   "id": "4124c42b-82ca-41ac-8f98-e30280c1fad5",
   "metadata": {},
   "source": [
    "### NN"
   ]
  },
  {
   "cell_type": "code",
   "execution_count": 9,
   "id": "5be8fd8f-d420-47da-b436-561fd1e54c62",
   "metadata": {},
   "outputs": [],
   "source": [
    "class NN(nn.Module):\n",
    "    def __init__(self, layers, dropout):\n",
    "        \n",
    "        super().__init__()\n",
    "        \n",
    "        fcs = []\n",
    "        for i in range(len(layers) - 2):\n",
    "            fcs.append(nn.Linear(layers[i], layers[i+1]))\n",
    "            fcs.append(nn.ReLU())\n",
    "            fcs.append(nn.Dropout(dropout))\n",
    "        fcs.append(nn.Linear(layers[-2], layers[-1]))\n",
    "        self.fc = nn.Sequential(*fcs)\n",
    "\n",
    "        \n",
    "    def forward(self, data):\n",
    "        \n",
    "        # data = [batch size, input_dim]\n",
    "            \n",
    "        return self.fc(data)"
   ]
  },
  {
   "cell_type": "code",
   "execution_count": 10,
   "id": "26814110-7a65-4d1c-98f6-c330e6fce9b7",
   "metadata": {},
   "outputs": [],
   "source": [
    "INPUT_DIM = x_train.shape[1]\n",
    "INPUT_DIM_DRCA = x_train_drca.shape[1]\n",
    "OUTPUT_DIM = 3\n",
    "DROPOUT = 0.3\n",
    "LAYERS = [INPUT_DIM, 64, 32, 16, OUTPUT_DIM]\n",
    "LAYERSD_DRCA = [INPUT_DIM_DRCA, 64, 32, 16, OUTPUT_DIM]\n",
    "\n",
    "model = NN(LAYERS, DROPOUT)\n",
    "model.double()\n",
    "model = model.to(device)\n",
    "optimizer = optim.Adam(model.parameters())\n",
    "\n",
    "model_drca = NN(LAYERSD_DRCA, DROPOUT)\n",
    "model_drca.double()\n",
    "model_drca = model_drca.to(device)\n",
    "optimizer_drca = optim.Adam(model_drca.parameters())\n",
    "\n",
    "criterion = nn.CrossEntropyLoss()\n",
    "criterion = criterion.to(device)"
   ]
  },
  {
   "cell_type": "code",
   "execution_count": 11,
   "id": "4e6043d3-7b96-44b0-9127-b234f7ca7bc2",
   "metadata": {},
   "outputs": [],
   "source": [
    "def train(model, train_dataloader, optimizer, criterion):\n",
    "    epoch_loss = 0\n",
    "    epoch_acc = 0\n",
    "    epoch_prec = 0\n",
    "    epoch_recall = 0\n",
    "    epoch_f1 = 0\n",
    "    batches = len(train_dataloader)\n",
    "    \n",
    "    model.train()\n",
    "    \n",
    "    for _, batch in enumerate(train_dataloader):\n",
    "        x, y = batch\n",
    "        \n",
    "        optimizer.zero_grad()\n",
    "        \n",
    "        predictions = model(x)\n",
    "        \n",
    "        loss = criterion(predictions, y)\n",
    "        \n",
    "        predictions = torch.argmax(torch.softmax(predictions, 0), dim=1)\n",
    "        acc = torchmetrics.functional.accuracy(predictions, y)\n",
    "        prec, recall = torchmetrics.functional.precision_recall(predictions, y, num_classes=3, average='macro')\n",
    "        f1 = torchmetrics.functional.f1(predictions, y, num_classes=3, average='macro')\n",
    "        \n",
    "        loss.backward()\n",
    "        \n",
    "        optimizer.step()\n",
    "        \n",
    "        epoch_loss += loss.item()\n",
    "        epoch_acc += acc.item()\n",
    "        epoch_prec += prec.item()\n",
    "        epoch_recall += recall.item()\n",
    "        epoch_f1 += f1.item()\n",
    "\n",
    "    return epoch_loss / batches, epoch_acc / batches, epoch_prec / batches, epoch_recall / batches, epoch_f1 / batches"
   ]
  },
  {
   "cell_type": "code",
   "execution_count": 12,
   "id": "45a47ab1-5f00-478d-a20e-8b2004bcf503",
   "metadata": {},
   "outputs": [],
   "source": [
    "def evaluate(model, test_dataloader, criterion):\n",
    "    epoch_loss = 0\n",
    "    epoch_acc = 0\n",
    "    epoch_prec = 0\n",
    "    epoch_recall = 0\n",
    "    epoch_f1 = 0\n",
    "    batches = len(test_dataloader)\n",
    "    \n",
    "    model.eval()\n",
    "    \n",
    "    with torch.no_grad():\n",
    "    \n",
    "        for _, batch in enumerate(test_dataloader):\n",
    "            x, y = batch\n",
    "\n",
    "            predictions = model(x)\n",
    "            \n",
    "            loss = criterion(predictions, y)\n",
    "            \n",
    "            predictions = torch.argmax(torch.softmax(predictions, 0), dim=1)\n",
    "            acc = torchmetrics.functional.accuracy(predictions, y)\n",
    "            prec, recall = torchmetrics.functional.precision_recall(predictions, y, num_classes=3, average='macro')\n",
    "            f1 = torchmetrics.functional.f1(predictions, y, num_classes=3, average='macro')\n",
    "\n",
    "            epoch_loss += loss.item()\n",
    "            epoch_acc += acc.item()\n",
    "            epoch_prec += prec.item()\n",
    "            epoch_recall += recall.item()\n",
    "            epoch_f1 += f1.item()\n",
    "        \n",
    "    return epoch_loss / batches, epoch_acc / batches, epoch_prec / batches, epoch_recall / batches, epoch_f1 / batches"
   ]
  },
  {
   "cell_type": "markdown",
   "id": "48dfe7e4-cac6-4dc2-bf9d-1b130c42149e",
   "metadata": {},
   "source": [
    "## Training Model Without DRCA"
   ]
  },
  {
   "cell_type": "code",
   "execution_count": 13,
   "id": "9c61416d-8348-4afa-bff6-169d20ff6d8f",
   "metadata": {},
   "outputs": [],
   "source": [
    "import time\n",
    "\n",
    "def epoch_time(start_time, end_time):\n",
    "    elapsed_time = end_time - start_time\n",
    "    elapsed_mins = int(elapsed_time / 60)\n",
    "    elapsed_secs = int(elapsed_time - (elapsed_mins * 60))\n",
    "    return elapsed_mins, elapsed_secs"
   ]
  },
  {
   "cell_type": "code",
   "execution_count": 14,
   "id": "62490699-b9bf-4e87-96bc-0f89a6390fa1",
   "metadata": {
    "scrolled": true,
    "tags": []
   },
   "outputs": [
    {
     "name": "stdout",
     "output_type": "stream",
     "text": [
      "Epoch: 01 | Epoch Time: 0m 0s\n",
      "\tTrain Loss: 1.256 | Train Acc: 27.97%\n",
      "\t Val. Loss: 1.135 |  Val. Acc: 16.67%\n",
      "Epoch: 02 | Epoch Time: 0m 0s\n",
      "\tTrain Loss: 1.197 | Train Acc: 40.31%\n",
      "\t Val. Loss: 1.050 |  Val. Acc: 68.06%\n",
      "Epoch: 03 | Epoch Time: 0m 0s\n",
      "\tTrain Loss: 1.109 | Train Acc: 45.05%\n",
      "\t Val. Loss: 1.027 |  Val. Acc: 66.67%\n",
      "Epoch: 04 | Epoch Time: 0m 0s\n",
      "\tTrain Loss: 1.059 | Train Acc: 49.11%\n",
      "\t Val. Loss: 1.012 |  Val. Acc: 63.89%\n",
      "Epoch: 05 | Epoch Time: 0m 0s\n",
      "\tTrain Loss: 1.130 | Train Acc: 44.06%\n",
      "\t Val. Loss: 1.018 |  Val. Acc: 63.89%\n",
      "Epoch: 06 | Epoch Time: 0m 0s\n",
      "\tTrain Loss: 1.101 | Train Acc: 46.72%\n",
      "\t Val. Loss: 1.030 |  Val. Acc: 61.11%\n",
      "Epoch: 07 | Epoch Time: 0m 0s\n",
      "\tTrain Loss: 1.051 | Train Acc: 55.73%\n",
      "\t Val. Loss: 1.033 |  Val. Acc: 61.11%\n",
      "Epoch: 08 | Epoch Time: 0m 0s\n",
      "\tTrain Loss: 1.060 | Train Acc: 46.93%\n",
      "\t Val. Loss: 1.018 |  Val. Acc: 63.89%\n",
      "Epoch: 09 | Epoch Time: 0m 0s\n",
      "\tTrain Loss: 1.080 | Train Acc: 47.86%\n",
      "\t Val. Loss: 1.003 |  Val. Acc: 65.28%\n",
      "Epoch: 10 | Epoch Time: 0m 0s\n",
      "\tTrain Loss: 1.068 | Train Acc: 48.23%\n",
      "\t Val. Loss: 0.996 |  Val. Acc: 63.89%\n",
      "Epoch: 11 | Epoch Time: 0m 0s\n",
      "\tTrain Loss: 1.054 | Train Acc: 53.54%\n",
      "\t Val. Loss: 0.985 |  Val. Acc: 63.89%\n",
      "Epoch: 12 | Epoch Time: 0m 0s\n",
      "\tTrain Loss: 1.039 | Train Acc: 52.03%\n",
      "\t Val. Loss: 0.975 |  Val. Acc: 68.06%\n",
      "Epoch: 13 | Epoch Time: 0m 0s\n",
      "\tTrain Loss: 1.068 | Train Acc: 44.58%\n",
      "\t Val. Loss: 0.975 |  Val. Acc: 66.67%\n",
      "Epoch: 14 | Epoch Time: 0m 0s\n",
      "\tTrain Loss: 1.028 | Train Acc: 54.58%\n",
      "\t Val. Loss: 0.977 |  Val. Acc: 68.06%\n",
      "Epoch: 15 | Epoch Time: 0m 0s\n",
      "\tTrain Loss: 1.029 | Train Acc: 51.67%\n",
      "\t Val. Loss: 0.967 |  Val. Acc: 68.06%\n",
      "Epoch: 16 | Epoch Time: 0m 0s\n",
      "\tTrain Loss: 1.018 | Train Acc: 50.99%\n",
      "\t Val. Loss: 0.955 |  Val. Acc: 68.06%\n",
      "Epoch: 17 | Epoch Time: 0m 0s\n",
      "\tTrain Loss: 1.001 | Train Acc: 51.15%\n",
      "\t Val. Loss: 0.935 |  Val. Acc: 65.28%\n",
      "Epoch: 18 | Epoch Time: 0m 0s\n",
      "\tTrain Loss: 0.990 | Train Acc: 52.40%\n",
      "\t Val. Loss: 0.923 |  Val. Acc: 65.28%\n",
      "Epoch: 19 | Epoch Time: 0m 0s\n",
      "\tTrain Loss: 0.995 | Train Acc: 53.91%\n",
      "\t Val. Loss: 0.915 |  Val. Acc: 66.67%\n",
      "Epoch: 20 | Epoch Time: 0m 0s\n",
      "\tTrain Loss: 0.999 | Train Acc: 55.99%\n",
      "\t Val. Loss: 0.905 |  Val. Acc: 66.67%\n",
      "Epoch: 21 | Epoch Time: 0m 0s\n",
      "\tTrain Loss: 0.957 | Train Acc: 56.82%\n",
      "\t Val. Loss: 0.900 |  Val. Acc: 66.67%\n",
      "Epoch: 22 | Epoch Time: 0m 0s\n",
      "\tTrain Loss: 0.958 | Train Acc: 59.17%\n",
      "\t Val. Loss: 0.890 |  Val. Acc: 65.28%\n",
      "Epoch: 23 | Epoch Time: 0m 0s\n",
      "\tTrain Loss: 0.934 | Train Acc: 61.09%\n",
      "\t Val. Loss: 0.865 |  Val. Acc: 70.83%\n",
      "Epoch: 24 | Epoch Time: 0m 0s\n",
      "\tTrain Loss: 0.966 | Train Acc: 55.16%\n",
      "\t Val. Loss: 0.854 |  Val. Acc: 72.22%\n",
      "Epoch: 25 | Epoch Time: 0m 0s\n",
      "\tTrain Loss: 0.943 | Train Acc: 59.90%\n",
      "\t Val. Loss: 0.846 |  Val. Acc: 69.44%\n",
      "Epoch: 26 | Epoch Time: 0m 0s\n",
      "\tTrain Loss: 0.916 | Train Acc: 60.31%\n",
      "\t Val. Loss: 0.835 |  Val. Acc: 69.44%\n",
      "Epoch: 27 | Epoch Time: 0m 0s\n",
      "\tTrain Loss: 0.909 | Train Acc: 58.33%\n",
      "\t Val. Loss: 0.817 |  Val. Acc: 70.83%\n",
      "Epoch: 28 | Epoch Time: 0m 0s\n",
      "\tTrain Loss: 0.905 | Train Acc: 55.99%\n",
      "\t Val. Loss: 0.793 |  Val. Acc: 72.22%\n",
      "Epoch: 29 | Epoch Time: 0m 0s\n",
      "\tTrain Loss: 0.904 | Train Acc: 53.39%\n",
      "\t Val. Loss: 0.782 |  Val. Acc: 70.83%\n",
      "Epoch: 30 | Epoch Time: 0m 0s\n",
      "\tTrain Loss: 0.843 | Train Acc: 54.95%\n",
      "\t Val. Loss: 0.767 |  Val. Acc: 72.22%\n",
      "Epoch: 31 | Epoch Time: 0m 0s\n",
      "\tTrain Loss: 0.867 | Train Acc: 59.27%\n",
      "\t Val. Loss: 0.753 |  Val. Acc: 72.22%\n",
      "Epoch: 32 | Epoch Time: 0m 0s\n",
      "\tTrain Loss: 0.847 | Train Acc: 58.07%\n",
      "\t Val. Loss: 0.750 |  Val. Acc: 63.89%\n",
      "Epoch: 33 | Epoch Time: 0m 0s\n",
      "\tTrain Loss: 0.865 | Train Acc: 55.99%\n",
      "\t Val. Loss: 0.729 |  Val. Acc: 65.28%\n",
      "Epoch: 34 | Epoch Time: 0m 0s\n",
      "\tTrain Loss: 0.852 | Train Acc: 62.14%\n",
      "\t Val. Loss: 0.721 |  Val. Acc: 63.89%\n",
      "Epoch: 35 | Epoch Time: 0m 0s\n",
      "\tTrain Loss: 0.807 | Train Acc: 56.04%\n",
      "\t Val. Loss: 0.716 |  Val. Acc: 63.89%\n",
      "Epoch: 36 | Epoch Time: 0m 0s\n",
      "\tTrain Loss: 0.811 | Train Acc: 55.94%\n",
      "\t Val. Loss: 0.691 |  Val. Acc: 65.28%\n",
      "Epoch: 37 | Epoch Time: 0m 0s\n",
      "\tTrain Loss: 0.797 | Train Acc: 57.14%\n",
      "\t Val. Loss: 0.676 |  Val. Acc: 62.50%\n",
      "Epoch: 38 | Epoch Time: 0m 0s\n",
      "\tTrain Loss: 0.781 | Train Acc: 54.22%\n",
      "\t Val. Loss: 0.663 |  Val. Acc: 56.94%\n",
      "Epoch: 39 | Epoch Time: 0m 0s\n",
      "\tTrain Loss: 0.782 | Train Acc: 50.57%\n",
      "\t Val. Loss: 0.636 |  Val. Acc: 59.72%\n",
      "Epoch: 40 | Epoch Time: 0m 0s\n",
      "\tTrain Loss: 0.752 | Train Acc: 55.36%\n",
      "\t Val. Loss: 0.625 |  Val. Acc: 58.33%\n"
     ]
    }
   ],
   "source": [
    "N_EPOCHS = 40\n",
    "\n",
    "train_loss = np.zeros(N_EPOCHS)\n",
    "train_acc = np.zeros(N_EPOCHS)\n",
    "train_prec = np.zeros(N_EPOCHS)\n",
    "train_recall = np.zeros(N_EPOCHS)\n",
    "train_f1 = np.zeros(N_EPOCHS)\n",
    "\n",
    "valid_loss = np.zeros(N_EPOCHS)\n",
    "valid_acc = np.zeros(N_EPOCHS)\n",
    "valid_prec = np.zeros(N_EPOCHS)\n",
    "valid_recall = np.zeros(N_EPOCHS)\n",
    "valid_f1 = np.zeros(N_EPOCHS)\n",
    "\n",
    "\n",
    "best_valid_loss = float('inf')\n",
    "\n",
    "for i in range(N_EPOCHS):\n",
    "\n",
    "    start_time = time.time()\n",
    "    \n",
    "    train_loss[i], train_acc[i], train_prec[i], train_recall[i], train_f1[i] = train(model, train_dataloader, optimizer, criterion)\n",
    "    valid_loss[i], valid_acc[i], valid_prec[i], valid_recall[i], valid_f1[i] = evaluate(model, valid_dataloader, criterion)\n",
    "    \n",
    "    end_time = time.time()\n",
    "\n",
    "    epoch_mins, epoch_secs = epoch_time(start_time, end_time)\n",
    "    \n",
    "    if valid_loss[i] < best_valid_loss:\n",
    "        best_valid_loss = valid_loss[i]\n",
    "        torch.save(model.state_dict(), 'nn-agg.pt')\n",
    "    \n",
    "    print(f'Epoch: {i+1:02} | Epoch Time: {epoch_mins}m {epoch_secs}s')\n",
    "    print(f'\\tTrain Loss: {train_loss[i]:.3f} | Train Acc: {train_acc[i]*100:.2f}%')\n",
    "    print(f'\\t Val. Loss: {valid_loss[i]:.3f} |  Val. Acc: {valid_acc[i]*100:.2f}%')"
   ]
  },
  {
   "cell_type": "markdown",
   "id": "09930922-3b40-4a22-ad67-1a0cb638f613",
   "metadata": {},
   "source": [
    "## Analysis"
   ]
  },
  {
   "cell_type": "code",
   "execution_count": 29,
   "id": "fc421da3-7bf6-4d34-bc71-9958cf374b48",
   "metadata": {},
   "outputs": [],
   "source": [
    "from sklearn.metrics import confusion_matrix\n",
    "from matplotlib import pyplot as plt\n",
    "\n",
    "def predict(model, x):\n",
    "    x = torch.from_numpy(x).to(device)\n",
    "    with torch.no_grad():\n",
    "        return torch.argmax(torch.softmax(model(x), 0), dim=1).cpu().detach().numpy()\n",
    "\n",
    "def confusion_matrix_plot(y_pred, y_true):\n",
    "    cm = confusion_matrix(y_pred, y_true, normalize='true')\n",
    "    normalize = True\n",
    "    cmap = 'RdPu'\n",
    "    classes = [0, 1, 2]\n",
    "    title = 'cofusion matrix'\n",
    "    fig, ax = plt.subplots()\n",
    "    im = ax.imshow(cm, interpolation='nearest', cmap=cmap)\n",
    "    ax.figure.colorbar(im, ax = ax)\n",
    "    ax.set(xticks = np.arange(cm.shape[1]), yticks = np.arange(cm.shape[0]), xticklabels = classes, yticklabels = classes, ylabel = 'True label', xlabel = 'Predicted label', title = title)\n",
    "    plt.setp(ax.get_xticklabels(), rotation=45, ha = 'right', rotation_mode = 'anchor')\n",
    "    fmt = '.2f' if normalize else 'd'\n",
    "    thresh = cm.max() / 2\n",
    "    for i in range(cm.shape[0]):\n",
    "        for j in range(cm.shape[1]):\n",
    "            ax.text(j, i, format(cm[i, j], fmt), ha = 'center', va = 'center', color = 'white' if cm[i,j] > thresh else 'black')\n",
    "            fig.tight_layout()\n",
    "\n",
    "def metric_epoch(train_loss, valid_loss, train_f1, valid_f1):\n",
    "    x = range(0, len(train_loss))\n",
    "    plt.figure(figsize=(14,3))\n",
    "    grid = plt.GridSpec(3, 2, wspace=0.5, hspace=0.5)\n",
    "    plt.subplot(grid[:,0])\n",
    "    plt.plot(x, train_f1, color=\"r\", marker='o',markersize='1.5',markeredgecolor='r',markeredgewidth = 1.5, label = 'Train F1 score')\n",
    "    plt.plot(x, valid_f1, color=\"b\", marker='o',markersize='1.5',markeredgecolor='b',markeredgewidth = 1.5, label = 'Valid F1 score')\n",
    "    plt.legend()\n",
    "    plt.title('F1 score vs epoches')\n",
    "    plt.xlabel('epoches')\n",
    "    plt.ylabel('F1 score')\n",
    "    plt.subplot(grid[:,1])\n",
    "    plt.plot(x, train_loss, color=\"red\", marker='o',markersize='1.5',markeredgecolor='r',markeredgewidth = 1.5, label = 'Train Loss')\n",
    "    plt.plot(x, valid_loss, color=\"blue\", marker='o',markersize='1.5',markeredgecolor='b',markeredgewidth = 1.5, label = 'Valid Loss')\n",
    "    plt.legend()\n",
    "    plt.title('Loss vs epoches')\n",
    "    plt.xlabel('epoches')\n",
    "    plt.ylabel('Loss')\n",
    "    plt.show()"
   ]
  },
  {
   "cell_type": "code",
   "execution_count": 30,
   "id": "57b45a53-7537-42bd-adbc-1cef5a6a36e8",
   "metadata": {},
   "outputs": [
    {
     "data": {
      "image/png": "[encoded data removed]",
      "text/plain": [
       "<Figure size 1008x216 with 2 Axes>"
      ]
     },
     "metadata": {
      "needs_background": "light"
     },
     "output_type": "display_data"
    }
   ],
   "source": [
    "metric_epoch(train_loss, valid_loss, train_f1, valid_f1)"
   ]
  },
  {
   "cell_type": "markdown",
   "id": "8e2517cb-cd08-461b-bf7f-501323ca9afd",
   "metadata": {},
   "source": [
    "### Test Set"
   ]
  },
  {
   "cell_type": "code",
   "execution_count": 19,
   "id": "1376c4c7-2f3d-4724-b06a-aea33fd10c8d",
   "metadata": {},
   "outputs": [
    {
     "name": "stdout",
     "output_type": "stream",
     "text": [
      "Test Loss: 0.722 | Test Acc: 75.00% | Test Prec: 79.63% | Test Recall: 70.85% | Test F1: 71.67%\n"
     ]
    }
   ],
   "source": [
    "model.load_state_dict(torch.load('nn-agg.pt'))\n",
    "\n",
    "test_loss, test_acc, test_prec, test_recall, test_f1 = evaluate(model, test_dataloader, criterion)\n",
    "print(f'Test Loss: {test_loss:.3f} | Test Acc: {test_acc*100:.2f}% | Test Prec: {test_prec*100:.2f}% | Test Recall: {test_recall*100:.2f}% | Test F1: {test_f1*100:.2f}%')"
   ]
  },
  {
   "cell_type": "code",
   "execution_count": 20,
   "id": "a72fdbef-a223-4552-b331-2bcf110cd9b6",
   "metadata": {},
   "outputs": [
    {
     "data": {
      "image/png": "[encoded data removed]",
      "text/plain": [
       "<Figure size 432x288 with 2 Axes>"
      ]
     },
     "metadata": {
      "needs_background": "light"
     },
     "output_type": "display_data"
    }
   ],
   "source": [
    "confusion_matrix_plot(predict(model, x_test), y_test)"
   ]
  },
  {
   "cell_type": "markdown",
   "id": "7f34ecc7-2687-4d3c-bfd0-d962489364ad",
   "metadata": {},
   "source": [
    "### Target Set"
   ]
  },
  {
   "cell_type": "code",
   "execution_count": 21,
   "id": "3bff2195-47d9-4172-971d-18d9f3e5b2f9",
   "metadata": {},
   "outputs": [
    {
     "name": "stdout",
     "output_type": "stream",
     "text": [
      "Test Loss: 2.871 | Test Acc: 20.35% | Test Prec: 25.45% | Test Recall: 11.45% | Test F1: 14.28%\n"
     ]
    }
   ],
   "source": [
    "model.load_state_dict(torch.load('nn-agg.pt'))\n",
    "\n",
    "test_loss, test_acc, test_prec, test_recall, test_f1 = evaluate(model, target_dataloader, criterion)\n",
    "print(f'Test Loss: {test_loss:.3f} | Test Acc: {test_acc*100:.2f}% | Test Prec: {test_prec*100:.2f}% | Test Recall: {test_recall*100:.2f}% | Test F1: {test_f1*100:.2f}%')"
   ]
  },
  {
   "cell_type": "code",
   "execution_count": 22,
   "id": "f8a543a4-e1c6-41e9-b744-b8cf68d44544",
   "metadata": {},
   "outputs": [
    {
     "data": {
      "image/png": "[encoded data removed]",
      "text/plain": [
       "<Figure size 432x288 with 2 Axes>"
      ]
     },
     "metadata": {
      "needs_background": "light"
     },
     "output_type": "display_data"
    }
   ],
   "source": [
    "confusion_matrix_plot(predict(model, target_dataset_raw), y_target)"
   ]
  },
  {
   "cell_type": "markdown",
   "id": "67dbaaa2-ad44-4f39-ab45-32a06e13c7f5",
   "metadata": {},
   "source": [
    "## Training Model With DRCA"
   ]
  },
  {
   "cell_type": "code",
   "execution_count": 23,
   "id": "87d1a561-51ae-44d9-a95a-6b3266b7151f",
   "metadata": {
    "scrolled": true,
    "tags": []
   },
   "outputs": [
    {
     "name": "stdout",
     "output_type": "stream",
     "text": [
      "Epoch: 01 | Epoch Time: 0m 0s\n",
      "\tTrain Loss: 1.122 | Train Acc: 31.61%\n",
      "\t Val. Loss: 1.137 |  Val. Acc: 50.00%\n",
      "Epoch: 02 | Epoch Time: 0m 0s\n",
      "\tTrain Loss: 1.113 | Train Acc: 41.30%\n",
      "\t Val. Loss: 1.129 |  Val. Acc: 59.72%\n",
      "Epoch: 03 | Epoch Time: 0m 0s\n",
      "\tTrain Loss: 1.112 | Train Acc: 44.79%\n",
      "\t Val. Loss: 1.122 |  Val. Acc: 59.72%\n",
      "Epoch: 04 | Epoch Time: 0m 0s\n",
      "\tTrain Loss: 1.101 | Train Acc: 47.24%\n",
      "\t Val. Loss: 1.115 |  Val. Acc: 59.72%\n",
      "Epoch: 05 | Epoch Time: 0m 0s\n",
      "\tTrain Loss: 1.105 | Train Acc: 48.44%\n",
      "\t Val. Loss: 1.109 |  Val. Acc: 59.72%\n",
      "Epoch: 06 | Epoch Time: 0m 0s\n",
      "\tTrain Loss: 1.095 | Train Acc: 45.52%\n",
      "\t Val. Loss: 1.101 |  Val. Acc: 61.11%\n",
      "Epoch: 07 | Epoch Time: 0m 0s\n",
      "\tTrain Loss: 1.087 | Train Acc: 49.84%\n",
      "\t Val. Loss: 1.092 |  Val. Acc: 63.89%\n",
      "Epoch: 08 | Epoch Time: 0m 0s\n",
      "\tTrain Loss: 1.082 | Train Acc: 50.10%\n",
      "\t Val. Loss: 1.082 |  Val. Acc: 63.89%\n",
      "Epoch: 09 | Epoch Time: 0m 0s\n",
      "\tTrain Loss: 1.075 | Train Acc: 53.33%\n",
      "\t Val. Loss: 1.071 |  Val. Acc: 65.28%\n",
      "Epoch: 10 | Epoch Time: 0m 0s\n",
      "\tTrain Loss: 1.065 | Train Acc: 49.90%\n",
      "\t Val. Loss: 1.059 |  Val. Acc: 68.06%\n",
      "Epoch: 11 | Epoch Time: 0m 0s\n",
      "\tTrain Loss: 1.060 | Train Acc: 48.54%\n",
      "\t Val. Loss: 1.045 |  Val. Acc: 70.83%\n",
      "Epoch: 12 | Epoch Time: 0m 0s\n",
      "\tTrain Loss: 1.039 | Train Acc: 61.15%\n",
      "\t Val. Loss: 1.028 |  Val. Acc: 72.22%\n",
      "Epoch: 13 | Epoch Time: 0m 0s\n",
      "\tTrain Loss: 1.036 | Train Acc: 54.69%\n",
      "\t Val. Loss: 1.010 |  Val. Acc: 72.22%\n",
      "Epoch: 14 | Epoch Time: 0m 0s\n",
      "\tTrain Loss: 1.010 | Train Acc: 59.90%\n",
      "\t Val. Loss: 0.990 |  Val. Acc: 73.61%\n",
      "Epoch: 15 | Epoch Time: 0m 0s\n",
      "\tTrain Loss: 0.993 | Train Acc: 62.45%\n",
      "\t Val. Loss: 0.967 |  Val. Acc: 73.61%\n",
      "Epoch: 16 | Epoch Time: 0m 0s\n",
      "\tTrain Loss: 0.987 | Train Acc: 59.06%\n",
      "\t Val. Loss: 0.942 |  Val. Acc: 73.61%\n",
      "Epoch: 17 | Epoch Time: 0m 0s\n",
      "\tTrain Loss: 0.964 | Train Acc: 61.35%\n",
      "\t Val. Loss: 0.914 |  Val. Acc: 73.61%\n",
      "Epoch: 18 | Epoch Time: 0m 0s\n",
      "\tTrain Loss: 0.949 | Train Acc: 60.73%\n",
      "\t Val. Loss: 0.884 |  Val. Acc: 72.22%\n",
      "Epoch: 19 | Epoch Time: 0m 0s\n",
      "\tTrain Loss: 0.925 | Train Acc: 61.82%\n",
      "\t Val. Loss: 0.855 |  Val. Acc: 72.22%\n",
      "Epoch: 20 | Epoch Time: 0m 0s\n",
      "\tTrain Loss: 0.883 | Train Acc: 66.82%\n",
      "\t Val. Loss: 0.826 |  Val. Acc: 76.39%\n",
      "Epoch: 21 | Epoch Time: 0m 0s\n",
      "\tTrain Loss: 0.903 | Train Acc: 61.09%\n",
      "\t Val. Loss: 0.797 |  Val. Acc: 79.17%\n",
      "Epoch: 22 | Epoch Time: 0m 0s\n",
      "\tTrain Loss: 0.844 | Train Acc: 66.35%\n",
      "\t Val. Loss: 0.768 |  Val. Acc: 81.94%\n",
      "Epoch: 23 | Epoch Time: 0m 0s\n",
      "\tTrain Loss: 0.837 | Train Acc: 65.47%\n",
      "\t Val. Loss: 0.737 |  Val. Acc: 81.94%\n",
      "Epoch: 24 | Epoch Time: 0m 0s\n",
      "\tTrain Loss: 0.821 | Train Acc: 65.36%\n",
      "\t Val. Loss: 0.709 |  Val. Acc: 83.33%\n",
      "Epoch: 25 | Epoch Time: 0m 0s\n",
      "\tTrain Loss: 0.784 | Train Acc: 68.28%\n",
      "\t Val. Loss: 0.682 |  Val. Acc: 84.72%\n",
      "Epoch: 26 | Epoch Time: 0m 0s\n",
      "\tTrain Loss: 0.730 | Train Acc: 65.52%\n",
      "\t Val. Loss: 0.656 |  Val. Acc: 86.11%\n",
      "Epoch: 27 | Epoch Time: 0m 0s\n",
      "\tTrain Loss: 0.716 | Train Acc: 71.72%\n",
      "\t Val. Loss: 0.632 |  Val. Acc: 86.11%\n",
      "Epoch: 28 | Epoch Time: 0m 0s\n",
      "\tTrain Loss: 0.690 | Train Acc: 68.44%\n",
      "\t Val. Loss: 0.606 |  Val. Acc: 79.17%\n",
      "Epoch: 29 | Epoch Time: 0m 0s\n",
      "\tTrain Loss: 0.662 | Train Acc: 67.97%\n",
      "\t Val. Loss: 0.580 |  Val. Acc: 79.17%\n",
      "Epoch: 30 | Epoch Time: 0m 0s\n",
      "\tTrain Loss: 0.656 | Train Acc: 69.79%\n",
      "\t Val. Loss: 0.554 |  Val. Acc: 77.78%\n",
      "Epoch: 31 | Epoch Time: 0m 0s\n",
      "\tTrain Loss: 0.604 | Train Acc: 72.19%\n",
      "\t Val. Loss: 0.529 |  Val. Acc: 77.78%\n",
      "Epoch: 32 | Epoch Time: 0m 0s\n",
      "\tTrain Loss: 0.583 | Train Acc: 69.17%\n",
      "\t Val. Loss: 0.503 |  Val. Acc: 77.78%\n",
      "Epoch: 33 | Epoch Time: 0m 0s\n",
      "\tTrain Loss: 0.605 | Train Acc: 62.97%\n",
      "\t Val. Loss: 0.477 |  Val. Acc: 77.78%\n",
      "Epoch: 34 | Epoch Time: 0m 0s\n",
      "\tTrain Loss: 0.559 | Train Acc: 64.01%\n",
      "\t Val. Loss: 0.452 |  Val. Acc: 76.39%\n",
      "Epoch: 35 | Epoch Time: 0m 0s\n",
      "\tTrain Loss: 0.509 | Train Acc: 64.69%\n",
      "\t Val. Loss: 0.429 |  Val. Acc: 76.39%\n",
      "Epoch: 36 | Epoch Time: 0m 0s\n",
      "\tTrain Loss: 0.524 | Train Acc: 60.89%\n",
      "\t Val. Loss: 0.406 |  Val. Acc: 75.00%\n",
      "Epoch: 37 | Epoch Time: 0m 0s\n",
      "\tTrain Loss: 0.514 | Train Acc: 68.44%\n",
      "\t Val. Loss: 0.388 |  Val. Acc: 73.61%\n",
      "Epoch: 38 | Epoch Time: 0m 0s\n",
      "\tTrain Loss: 0.483 | Train Acc: 67.97%\n",
      "\t Val. Loss: 0.376 |  Val. Acc: 72.22%\n",
      "Epoch: 39 | Epoch Time: 0m 0s\n",
      "\tTrain Loss: 0.464 | Train Acc: 59.64%\n",
      "\t Val. Loss: 0.369 |  Val. Acc: 69.44%\n",
      "Epoch: 40 | Epoch Time: 0m 0s\n",
      "\tTrain Loss: 0.473 | Train Acc: 59.64%\n",
      "\t Val. Loss: 0.351 |  Val. Acc: 69.44%\n",
      "Epoch: 41 | Epoch Time: 0m 0s\n",
      "\tTrain Loss: 0.451 | Train Acc: 63.39%\n",
      "\t Val. Loss: 0.334 |  Val. Acc: 69.44%\n",
      "Epoch: 42 | Epoch Time: 0m 0s\n",
      "\tTrain Loss: 0.443 | Train Acc: 57.81%\n",
      "\t Val. Loss: 0.321 |  Val. Acc: 63.89%\n",
      "Epoch: 43 | Epoch Time: 0m 0s\n",
      "\tTrain Loss: 0.438 | Train Acc: 69.43%\n",
      "\t Val. Loss: 0.308 |  Val. Acc: 63.89%\n",
      "Epoch: 44 | Epoch Time: 0m 0s\n",
      "\tTrain Loss: 0.437 | Train Acc: 54.95%\n",
      "\t Val. Loss: 0.295 |  Val. Acc: 63.89%\n",
      "Epoch: 45 | Epoch Time: 0m 0s\n",
      "\tTrain Loss: 0.369 | Train Acc: 64.37%\n",
      "\t Val. Loss: 0.283 |  Val. Acc: 63.89%\n"
     ]
    }
   ],
   "source": [
    "N_EPOCHS = 45\n",
    "\n",
    "best_valid_loss = float('inf')\n",
    "train_loss_drca = np.zeros(N_EPOCHS)\n",
    "train_acc_drca = np.zeros(N_EPOCHS)\n",
    "train_prec_drca = np.zeros(N_EPOCHS)\n",
    "train_recall_drca = np.zeros(N_EPOCHS)\n",
    "train_f1_drca = np.zeros(N_EPOCHS)\n",
    "\n",
    "valid_loss_drca = np.zeros(N_EPOCHS)\n",
    "valid_acc_drca = np.zeros(N_EPOCHS)\n",
    "valid_prec_drca = np.zeros(N_EPOCHS)\n",
    "valid_recall_drca = np.zeros(N_EPOCHS)\n",
    "valid_f1_drca = np.zeros(N_EPOCHS)\n",
    "\n",
    "\n",
    "for i in range(N_EPOCHS):\n",
    "\n",
    "    start_time = time.time()\n",
    "    \n",
    "    train_loss_drca[i], train_acc_drca[i], train_prec_drca[i], train_recall_drca[i], train_f1_drca[i] = train(model_drca,\n",
    "                                                                                                              train_dataloader_drca,\n",
    "                                                                                                              optimizer_drca,\n",
    "                                                                                                              criterion)\n",
    "    valid_loss_drca[i], valid_acc_drca[i], valid_prec_drca[i], valid_recall_drca[i], valid_f1_drca[i] = evaluate(model_drca,\n",
    "                                                                                                                 valid_dataloader_drca,\n",
    "                                                                                                                 criterion)\n",
    "    \n",
    "    end_time = time.time()\n",
    "\n",
    "    epoch_mins, epoch_secs = epoch_time(start_time, end_time)\n",
    "    \n",
    "    if valid_loss_drca[i] < best_valid_loss:\n",
    "        best_valid_loss = valid_loss_drca[i]\n",
    "        torch.save(model_drca.state_dict(), 'nn-agg-drca.pt')\n",
    "    \n",
    "    print(f'Epoch: {i+1:02} | Epoch Time: {epoch_mins}m {epoch_secs}s')\n",
    "    print(f'\\tTrain Loss: {train_loss_drca[i]:.3f} | Train Acc: {train_acc_drca[i]*100:.2f}%')\n",
    "    print(f'\\t Val. Loss: {valid_loss_drca[i]:.3f} |  Val. Acc: {valid_acc_drca[i]*100:.2f}%')"
   ]
  },
  {
   "cell_type": "code",
   "execution_count": 24,
   "id": "9db4cfd7-1a60-4ab4-b390-2e07bdb53a6e",
   "metadata": {},
   "outputs": [
    {
     "data": {
      "image/png": "[encoded data removed]",
      "text/plain": [
       "<Figure size 1008x216 with 2 Axes>"
      ]
     },
     "metadata": {
      "needs_background": "light"
     },
     "output_type": "display_data"
    }
   ],
   "source": [
    "metric_epoch(train_loss_drca, valid_loss_drca, train_f1_drca, valid_f1_drca)"
   ]
  },
  {
   "cell_type": "markdown",
   "id": "0cff1d54-cd0a-47a6-9217-1068235b6940",
   "metadata": {},
   "source": [
    "### Test Set"
   ]
  },
  {
   "cell_type": "code",
   "execution_count": 25,
   "id": "a6779487-b963-4ce1-8fc3-3925bb1d8690",
   "metadata": {},
   "outputs": [
    {
     "name": "stdout",
     "output_type": "stream",
     "text": [
      "Test Loss: 0.307 | Test Acc: 80.56% | Test Prec: 86.67% | Test Recall: 77.58% | Test F1: 76.45%\n"
     ]
    }
   ],
   "source": [
    "model_drca.load_state_dict(torch.load('nn-agg-drca.pt'))\n",
    "\n",
    "test_loss, test_acc, test_prec, test_recall, test_f1 = evaluate(model_drca, test_dataloader_drca, criterion)\n",
    "print(f'Test Loss: {test_loss:.3f} | Test Acc: {test_acc*100:.2f}% | Test Prec: {test_prec*100:.2f}% | Test Recall: {test_recall*100:.2f}% | Test F1: {test_f1*100:.2f}%')"
   ]
  },
  {
   "cell_type": "code",
   "execution_count": 26,
   "id": "e2809c18-7ef9-4922-8ff8-e2f29f70dafc",
   "metadata": {},
   "outputs": [
    {
     "data": {
      "image/png": "[encoded data removed]",
      "text/plain": [
       "<Figure size 432x288 with 2 Axes>"
      ]
     },
     "metadata": {
      "needs_background": "light"
     },
     "output_type": "display_data"
    }
   ],
   "source": [
    "confusion_matrix_plot(predict(model_drca, x_test_drca), y_test_drca)"
   ]
  },
  {
   "cell_type": "markdown",
   "id": "12054bae-9b0f-4c7b-8625-4f370a213726",
   "metadata": {},
   "source": [
    "### Target Set"
   ]
  },
  {
   "cell_type": "code",
   "execution_count": 27,
   "id": "b01b8ddf-290c-4804-8d78-69b89c8a467d",
   "metadata": {},
   "outputs": [
    {
     "name": "stdout",
     "output_type": "stream",
     "text": [
      "Test Loss: 3.257 | Test Acc: 33.49% | Test Prec: 33.44% | Test Recall: 22.66% | Test F1: 24.75%\n"
     ]
    }
   ],
   "source": [
    "model_drca.load_state_dict(torch.load('nn-agg-drca.pt'))\n",
    "\n",
    "test_loss, test_acc, test_prec, test_recall, test_f1 = evaluate(model_drca, target_dataloader_drca, criterion)\n",
    "print(f'Test Loss: {test_loss:.3f} | Test Acc: {test_acc*100:.2f}% | Test Prec: {test_prec*100:.2f}% | Test Recall: {test_recall*100:.2f}% | Test F1: {test_f1*100:.2f}%')"
   ]
  },
  {
   "cell_type": "code",
   "execution_count": 28,
   "id": "e2688f6e-2d20-4b98-8c95-7c45a9ce9971",
   "metadata": {},
   "outputs": [
    {
     "data": {
      "image/png": "[encoded data removed]",
      "text/plain": [
       "<Figure size 432x288 with 2 Axes>"
      ]
     },
     "metadata": {
      "needs_background": "light"
     },
     "output_type": "display_data"
    }
   ],
   "source": [
    "confusion_matrix_plot(predict(model_drca, target_dataset_drca), y_target)"
   ]
  },
  {
   "cell_type": "code",
   "execution_count": null,
   "id": "5246105f-71bc-4fba-8a4d-e46b62d7ada1",
   "metadata": {},
   "outputs": [],
   "source": []
  }
 ],
 "metadata": {
  "environment": {
   "kernel": "python3",
   "name": "pytorch-gpu.1-9.m82",
   "type": "gcloud",
   "uri": "gcr.io/deeplearning-platform-release/pytorch-gpu.1-9:m82"
  },
  "kernelspec": {
   "display_name": "Python 3",
   "language": "python",
   "name": "python3"
  },
  "language_info": {
   "codemirror_mode": {
    "name": "ipython",
    "version": 3
   },
   "file_extension": ".py",
   "mimetype": "text/x-python",
   "name": "python",
   "nbconvert_exporter": "python",
   "pygments_lexer": "ipython3",
   "version": "3.7.10"
  }
 },
 "nbformat": 4,
 "nbformat_minor": 5
}
